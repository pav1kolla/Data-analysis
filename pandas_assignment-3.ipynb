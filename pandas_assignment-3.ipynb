{
 "cells": [
  {
   "cell_type": "code",
   "execution_count": 1,
   "id": "e8c3da6c",
   "metadata": {},
   "outputs": [],
   "source": [
    "import pandas as pd\n",
    "import numpy as np"
   ]
  },
  {
   "cell_type": "code",
   "execution_count": 2,
   "id": "e9b9342e",
   "metadata": {},
   "outputs": [],
   "source": [
    "data=pd.read_csv(r\"C:\\Users\\pavan\\Downloads\\all_grains_data.csv\")"
   ]
  },
  {
   "cell_type": "code",
   "execution_count": 3,
   "id": "9f1c438f",
   "metadata": {},
   "outputs": [],
   "source": [
    "dt=data.copy()"
   ]
  },
  {
   "cell_type": "code",
   "execution_count": 4,
   "id": "2b5f6aac",
   "metadata": {},
   "outputs": [
    {
     "data": {
      "text/html": [
       "<div>\n",
       "<style scoped>\n",
       "    .dataframe tbody tr th:only-of-type {\n",
       "        vertical-align: middle;\n",
       "    }\n",
       "\n",
       "    .dataframe tbody tr th {\n",
       "        vertical-align: top;\n",
       "    }\n",
       "\n",
       "    .dataframe thead th {\n",
       "        text-align: right;\n",
       "    }\n",
       "</style>\n",
       "<table border=\"1\" class=\"dataframe\">\n",
       "  <thead>\n",
       "    <tr style=\"text-align: right;\">\n",
       "      <th></th>\n",
       "      <th>ticker</th>\n",
       "      <th>commodity</th>\n",
       "      <th>date</th>\n",
       "      <th>open</th>\n",
       "      <th>high</th>\n",
       "      <th>low</th>\n",
       "      <th>close</th>\n",
       "      <th>volume</th>\n",
       "    </tr>\n",
       "  </thead>\n",
       "  <tbody>\n",
       "    <tr>\n",
       "      <th>0</th>\n",
       "      <td>ZC=F</td>\n",
       "      <td>Corn</td>\n",
       "      <td>2000-07-17</td>\n",
       "      <td>182.25</td>\n",
       "      <td>182.25</td>\n",
       "      <td>178.25</td>\n",
       "      <td>179.25</td>\n",
       "      <td>19385</td>\n",
       "    </tr>\n",
       "    <tr>\n",
       "      <th>1</th>\n",
       "      <td>ZC=F</td>\n",
       "      <td>Corn</td>\n",
       "      <td>2000-07-18</td>\n",
       "      <td>179.00</td>\n",
       "      <td>183.25</td>\n",
       "      <td>179.00</td>\n",
       "      <td>180.75</td>\n",
       "      <td>25205</td>\n",
       "    </tr>\n",
       "    <tr>\n",
       "      <th>2</th>\n",
       "      <td>ZC=F</td>\n",
       "      <td>Corn</td>\n",
       "      <td>2000-07-19</td>\n",
       "      <td>180.00</td>\n",
       "      <td>182.75</td>\n",
       "      <td>178.75</td>\n",
       "      <td>182.00</td>\n",
       "      <td>17126</td>\n",
       "    </tr>\n",
       "    <tr>\n",
       "      <th>3</th>\n",
       "      <td>ZC=F</td>\n",
       "      <td>Corn</td>\n",
       "      <td>2000-07-20</td>\n",
       "      <td>181.50</td>\n",
       "      <td>187.00</td>\n",
       "      <td>181.00</td>\n",
       "      <td>186.00</td>\n",
       "      <td>18742</td>\n",
       "    </tr>\n",
       "    <tr>\n",
       "      <th>4</th>\n",
       "      <td>ZC=F</td>\n",
       "      <td>Corn</td>\n",
       "      <td>2000-07-21</td>\n",
       "      <td>185.50</td>\n",
       "      <td>188.00</td>\n",
       "      <td>185.00</td>\n",
       "      <td>187.75</td>\n",
       "      <td>16814</td>\n",
       "    </tr>\n",
       "    <tr>\n",
       "      <th>...</th>\n",
       "      <td>...</td>\n",
       "      <td>...</td>\n",
       "      <td>...</td>\n",
       "      <td>...</td>\n",
       "      <td>...</td>\n",
       "      <td>...</td>\n",
       "      <td>...</td>\n",
       "      <td>...</td>\n",
       "    </tr>\n",
       "    <tr>\n",
       "      <th>34878</th>\n",
       "      <td>ZS=F</td>\n",
       "      <td>Soybean</td>\n",
       "      <td>2023-09-11</td>\n",
       "      <td>1352.50</td>\n",
       "      <td>1352.50</td>\n",
       "      <td>1352.00</td>\n",
       "      <td>1352.50</td>\n",
       "      <td>36</td>\n",
       "    </tr>\n",
       "    <tr>\n",
       "      <th>34879</th>\n",
       "      <td>ZS=F</td>\n",
       "      <td>Soybean</td>\n",
       "      <td>2023-09-12</td>\n",
       "      <td>1348.75</td>\n",
       "      <td>1348.75</td>\n",
       "      <td>1331.75</td>\n",
       "      <td>1331.75</td>\n",
       "      <td>274</td>\n",
       "    </tr>\n",
       "    <tr>\n",
       "      <th>34880</th>\n",
       "      <td>ZS=F</td>\n",
       "      <td>Soybean</td>\n",
       "      <td>2023-09-13</td>\n",
       "      <td>1325.50</td>\n",
       "      <td>1336.00</td>\n",
       "      <td>1325.50</td>\n",
       "      <td>1336.00</td>\n",
       "      <td>201</td>\n",
       "    </tr>\n",
       "    <tr>\n",
       "      <th>34881</th>\n",
       "      <td>ZS=F</td>\n",
       "      <td>Soybean</td>\n",
       "      <td>2023-09-14</td>\n",
       "      <td>1343.75</td>\n",
       "      <td>1343.75</td>\n",
       "      <td>1343.75</td>\n",
       "      <td>1343.75</td>\n",
       "      <td>138778</td>\n",
       "    </tr>\n",
       "    <tr>\n",
       "      <th>34882</th>\n",
       "      <td>ZS=F</td>\n",
       "      <td>Soybean</td>\n",
       "      <td>2023-09-15</td>\n",
       "      <td>1360.50</td>\n",
       "      <td>1367.75</td>\n",
       "      <td>1338.25</td>\n",
       "      <td>1340.25</td>\n",
       "      <td>138778</td>\n",
       "    </tr>\n",
       "  </tbody>\n",
       "</table>\n",
       "<p>34883 rows × 8 columns</p>\n",
       "</div>"
      ],
      "text/plain": [
       "      ticker commodity        date     open     high      low    close  volume\n",
       "0       ZC=F      Corn  2000-07-17   182.25   182.25   178.25   179.25   19385\n",
       "1       ZC=F      Corn  2000-07-18   179.00   183.25   179.00   180.75   25205\n",
       "2       ZC=F      Corn  2000-07-19   180.00   182.75   178.75   182.00   17126\n",
       "3       ZC=F      Corn  2000-07-20   181.50   187.00   181.00   186.00   18742\n",
       "4       ZC=F      Corn  2000-07-21   185.50   188.00   185.00   187.75   16814\n",
       "...      ...       ...         ...      ...      ...      ...      ...     ...\n",
       "34878   ZS=F   Soybean  2023-09-11  1352.50  1352.50  1352.00  1352.50      36\n",
       "34879   ZS=F   Soybean  2023-09-12  1348.75  1348.75  1331.75  1331.75     274\n",
       "34880   ZS=F   Soybean  2023-09-13  1325.50  1336.00  1325.50  1336.00     201\n",
       "34881   ZS=F   Soybean  2023-09-14  1343.75  1343.75  1343.75  1343.75  138778\n",
       "34882   ZS=F   Soybean  2023-09-15  1360.50  1367.75  1338.25  1340.25  138778\n",
       "\n",
       "[34883 rows x 8 columns]"
      ]
     },
     "execution_count": 4,
     "metadata": {},
     "output_type": "execute_result"
    }
   ],
   "source": [
    "dt"
   ]
  },
  {
   "cell_type": "markdown",
   "id": "2182cf08",
   "metadata": {},
   "source": [
    "# 1. Which commodity was having the highest opening price for the day."
   ]
  },
  {
   "cell_type": "code",
   "execution_count": 8,
   "id": "804b3449",
   "metadata": {},
   "outputs": [],
   "source": [
    "dt[\"date\"]=pd.to_datetime(dt[\"date\"])"
   ]
  },
  {
   "cell_type": "code",
   "execution_count": 9,
   "id": "8928c897",
   "metadata": {},
   "outputs": [
    {
     "data": {
      "text/html": [
       "<div>\n",
       "<style scoped>\n",
       "    .dataframe tbody tr th:only-of-type {\n",
       "        vertical-align: middle;\n",
       "    }\n",
       "\n",
       "    .dataframe tbody tr th {\n",
       "        vertical-align: top;\n",
       "    }\n",
       "\n",
       "    .dataframe thead th {\n",
       "        text-align: right;\n",
       "    }\n",
       "</style>\n",
       "<table border=\"1\" class=\"dataframe\">\n",
       "  <thead>\n",
       "    <tr style=\"text-align: right;\">\n",
       "      <th></th>\n",
       "      <th>open</th>\n",
       "      <th>high</th>\n",
       "      <th>low</th>\n",
       "      <th>close</th>\n",
       "      <th>volume</th>\n",
       "    </tr>\n",
       "  </thead>\n",
       "  <tbody>\n",
       "    <tr>\n",
       "      <th>count</th>\n",
       "      <td>34883.000000</td>\n",
       "      <td>34883.000000</td>\n",
       "      <td>34883.000000</td>\n",
       "      <td>34883.000000</td>\n",
       "      <td>34883.000000</td>\n",
       "    </tr>\n",
       "    <tr>\n",
       "      <th>mean</th>\n",
       "      <td>573.890888</td>\n",
       "      <td>579.401570</td>\n",
       "      <td>568.530326</td>\n",
       "      <td>573.880280</td>\n",
       "      <td>27606.105008</td>\n",
       "    </tr>\n",
       "    <tr>\n",
       "      <th>std</th>\n",
       "      <td>458.921582</td>\n",
       "      <td>463.500174</td>\n",
       "      <td>454.580653</td>\n",
       "      <td>458.949972</td>\n",
       "      <td>52347.602634</td>\n",
       "    </tr>\n",
       "    <tr>\n",
       "      <th>min</th>\n",
       "      <td>14.400000</td>\n",
       "      <td>14.410000</td>\n",
       "      <td>14.380000</td>\n",
       "      <td>14.380000</td>\n",
       "      <td>0.000000</td>\n",
       "    </tr>\n",
       "    <tr>\n",
       "      <th>25%</th>\n",
       "      <td>224.500000</td>\n",
       "      <td>226.500000</td>\n",
       "      <td>222.250000</td>\n",
       "      <td>224.250000</td>\n",
       "      <td>78.000000</td>\n",
       "    </tr>\n",
       "    <tr>\n",
       "      <th>50%</th>\n",
       "      <td>435.500000</td>\n",
       "      <td>439.000000</td>\n",
       "      <td>431.750000</td>\n",
       "      <td>435.750000</td>\n",
       "      <td>867.000000</td>\n",
       "    </tr>\n",
       "    <tr>\n",
       "      <th>75%</th>\n",
       "      <td>878.000000</td>\n",
       "      <td>886.500000</td>\n",
       "      <td>869.750000</td>\n",
       "      <td>877.125000</td>\n",
       "      <td>28293.500000</td>\n",
       "    </tr>\n",
       "    <tr>\n",
       "      <th>max</th>\n",
       "      <td>2435.000000</td>\n",
       "      <td>2468.500000</td>\n",
       "      <td>2400.000000</td>\n",
       "      <td>2446.000000</td>\n",
       "      <td>523849.000000</td>\n",
       "    </tr>\n",
       "  </tbody>\n",
       "</table>\n",
       "</div>"
      ],
      "text/plain": [
       "               open          high           low         close         volume\n",
       "count  34883.000000  34883.000000  34883.000000  34883.000000   34883.000000\n",
       "mean     573.890888    579.401570    568.530326    573.880280   27606.105008\n",
       "std      458.921582    463.500174    454.580653    458.949972   52347.602634\n",
       "min       14.400000     14.410000     14.380000     14.380000       0.000000\n",
       "25%      224.500000    226.500000    222.250000    224.250000      78.000000\n",
       "50%      435.500000    439.000000    431.750000    435.750000     867.000000\n",
       "75%      878.000000    886.500000    869.750000    877.125000   28293.500000\n",
       "max     2435.000000   2468.500000   2400.000000   2446.000000  523849.000000"
      ]
     },
     "execution_count": 9,
     "metadata": {},
     "output_type": "execute_result"
    }
   ],
   "source": [
    "dt.describe()"
   ]
  },
  {
   "cell_type": "code",
   "execution_count": 10,
   "id": "64861d80",
   "metadata": {},
   "outputs": [
    {
     "data": {
      "text/plain": [
       "2435.0"
      ]
     },
     "execution_count": 10,
     "metadata": {},
     "output_type": "execute_result"
    }
   ],
   "source": [
    "dt[\"open\"].max()"
   ]
  },
  {
   "cell_type": "code",
   "execution_count": 13,
   "id": "4b1257f1",
   "metadata": {},
   "outputs": [],
   "source": [
    "filt=(dt[\"open\"]==2435.0)"
   ]
  },
  {
   "cell_type": "code",
   "execution_count": 14,
   "id": "850a0387",
   "metadata": {},
   "outputs": [
    {
     "data": {
      "text/plain": [
       "19437    Rough Rice\n",
       "Name: commodity, dtype: object"
      ]
     },
     "execution_count": 14,
     "metadata": {},
     "output_type": "execute_result"
    }
   ],
   "source": [
    "dt.loc[filt][\"commodity\"]"
   ]
  },
  {
   "cell_type": "markdown",
   "id": "9bca5228",
   "metadata": {},
   "source": [
    "# 2.Which commodity price reached maximum during the trading session?"
   ]
  },
  {
   "cell_type": "code",
   "execution_count": 17,
   "id": "541e04af",
   "metadata": {},
   "outputs": [],
   "source": [
    "fil=(dt[\"high\"]==dt[\"high\"].max())"
   ]
  },
  {
   "cell_type": "code",
   "execution_count": 20,
   "id": "d557cbcf",
   "metadata": {},
   "outputs": [
    {
     "data": {
      "text/plain": [
       "19437    Rough Rice\n",
       "Name: commodity, dtype: object"
      ]
     },
     "execution_count": 20,
     "metadata": {},
     "output_type": "execute_result"
    }
   ],
   "source": [
    "dt.loc[fil][\"commodity\"]"
   ]
  },
  {
   "cell_type": "markdown",
   "id": "f8507dd4",
   "metadata": {},
   "source": [
    "# 3.What is the average market's opening price for the oat in 2010?"
   ]
  },
  {
   "cell_type": "code",
   "execution_count": 21,
   "id": "e69acb16",
   "metadata": {},
   "outputs": [],
   "source": [
    "filt=(dt[\"date\"]>=\"2010-01-01\")&(dt[\"date\"]<=\"2010-12-31\")&(dt[\"commodity\"]==\"Oat\")"
   ]
  },
  {
   "cell_type": "code",
   "execution_count": 25,
   "id": "4604aeab",
   "metadata": {},
   "outputs": [
    {
     "data": {
      "text/plain": [
       "275.11607142857144"
      ]
     },
     "execution_count": 25,
     "metadata": {},
     "output_type": "execute_result"
    }
   ],
   "source": [
    "dt.loc[filt][\"open\"].mean()"
   ]
  },
  {
   "cell_type": "markdown",
   "id": "caa72395",
   "metadata": {},
   "source": [
    "# 4. Which commodity have the average lowest opening price around 2001 to 2005?"
   ]
  },
  {
   "cell_type": "code",
   "execution_count": 26,
   "id": "ab462bd1",
   "metadata": {},
   "outputs": [],
   "source": [
    "filt=(dt[\"date\"]>=\"2001-01-01\")&(dt[\"date\"]<=\"2005-12-31\")"
   ]
  },
  {
   "cell_type": "code",
   "execution_count": 27,
   "id": "4d667990",
   "metadata": {},
   "outputs": [],
   "source": [
    "low=dt.loc[filt]"
   ]
  },
  {
   "cell_type": "code",
   "execution_count": 29,
   "id": "da69a9c0",
   "metadata": {},
   "outputs": [],
   "source": [
    "p=low.groupby([\"commodity\"])"
   ]
  },
  {
   "cell_type": "code",
   "execution_count": 30,
   "id": "e1a9c654",
   "metadata": {},
   "outputs": [
    {
     "data": {
      "text/plain": [
       "commodity\n",
       "Corn            226.167136\n",
       "KC HRW Wheat    343.651033\n",
       "Oat             159.646309\n",
       "Rough Rice      616.746411\n",
       "Soybean         594.099841\n",
       "Soybean Oil      21.416110\n",
       "Name: open, dtype: float64"
      ]
     },
     "execution_count": 30,
     "metadata": {},
     "output_type": "execute_result"
    }
   ],
   "source": [
    "p[\"open\"].mean()"
   ]
  },
  {
   "cell_type": "markdown",
   "id": "c0359c93",
   "metadata": {},
   "source": [
    "# 5. What is the maximum and minmum number of contracts traded during the 2009?"
   ]
  },
  {
   "cell_type": "code",
   "execution_count": 31,
   "id": "e76ba5d8",
   "metadata": {},
   "outputs": [],
   "source": [
    "filt=(dt[\"date\"]>=\"2001-01-01\")&(dt[\"date\"]<=\"2009-12-31\")"
   ]
  },
  {
   "cell_type": "code",
   "execution_count": 32,
   "id": "9f0f230b",
   "metadata": {},
   "outputs": [
    {
     "data": {
      "text/plain": [
       "252221"
      ]
     },
     "execution_count": 32,
     "metadata": {},
     "output_type": "execute_result"
    }
   ],
   "source": [
    "dt.loc[filt][\"volume\"].max()"
   ]
  },
  {
   "cell_type": "code",
   "execution_count": 33,
   "id": "ac453cdf",
   "metadata": {},
   "outputs": [
    {
     "data": {
      "text/plain": [
       "0"
      ]
     },
     "execution_count": 33,
     "metadata": {},
     "output_type": "execute_result"
    }
   ],
   "source": [
    "dt.loc[filt][\"volume\"].min()"
   ]
  },
  {
   "cell_type": "markdown",
   "id": "87c200e3",
   "metadata": {},
   "source": [
    "# 6.Which commodity have the best average market's closing price?"
   ]
  },
  {
   "cell_type": "code",
   "execution_count": 34,
   "id": "702f3921",
   "metadata": {},
   "outputs": [],
   "source": [
    "g=dt.groupby([\"commodity\"])"
   ]
  },
  {
   "cell_type": "code",
   "execution_count": 35,
   "id": "b9d05afd",
   "metadata": {},
   "outputs": [
    {
     "data": {
      "text/plain": [
       "commodity\n",
       "Corn             409.404772\n",
       "KC HRW Wheat     563.693282\n",
       "Oat              278.657674\n",
       "Rough Rice      1143.607925\n",
       "Soybean          998.015728\n",
       "Soybean Oil       36.820361\n",
       "Name: close, dtype: float64"
      ]
     },
     "execution_count": 35,
     "metadata": {},
     "output_type": "execute_result"
    }
   ],
   "source": [
    "g[\"close\"].mean()"
   ]
  },
  {
   "cell_type": "code",
   "execution_count": null,
   "id": "1480b7e5",
   "metadata": {},
   "outputs": [],
   "source": []
  }
 ],
 "metadata": {
  "kernelspec": {
   "display_name": "Python 3 (ipykernel)",
   "language": "python",
   "name": "python3"
  },
  "language_info": {
   "codemirror_mode": {
    "name": "ipython",
    "version": 3
   },
   "file_extension": ".py",
   "mimetype": "text/x-python",
   "name": "python",
   "nbconvert_exporter": "python",
   "pygments_lexer": "ipython3",
   "version": "3.11.3"
  }
 },
 "nbformat": 4,
 "nbformat_minor": 5
}
