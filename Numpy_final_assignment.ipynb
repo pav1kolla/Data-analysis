{
 "cells": [
  {
   "cell_type": "code",
   "execution_count": 1,
   "id": "84602aa6",
   "metadata": {},
   "outputs": [],
   "source": [
    "import numpy as np"
   ]
  },
  {
   "cell_type": "code",
   "execution_count": 2,
   "id": "f7034f1d",
   "metadata": {},
   "outputs": [],
   "source": [
    "t=np.genfromtxt(r\"C:\\Users\\pavan\\Downloads\\tipsf.csv\",delimiter=\",\",skip_header=1)"
   ]
  },
  {
   "cell_type": "code",
   "execution_count": 3,
   "id": "4ed06bf4",
   "metadata": {},
   "outputs": [
    {
     "data": {
      "text/plain": [
       "array([[  0.  ,  16.99,   1.01, ...,   1.  ,   0.  ,   2.  ],\n",
       "       [  1.  ,  10.34,   1.66, ...,   1.  ,   0.  ,   3.  ],\n",
       "       [  2.  ,  21.01,   3.5 , ...,   1.  ,   0.  ,   3.  ],\n",
       "       ...,\n",
       "       [241.  ,  22.67,   2.  , ...,   0.  ,   0.  ,   2.  ],\n",
       "       [242.  ,  17.82,   1.75, ...,   0.  ,   0.  ,   2.  ],\n",
       "       [243.  ,  18.78,   3.  , ...,   2.  ,   0.  ,   2.  ]])"
      ]
     },
     "execution_count": 3,
     "metadata": {},
     "output_type": "execute_result"
    }
   ],
   "source": [
    "t"
   ]
  },
  {
   "cell_type": "markdown",
   "id": "5c0a5e09",
   "metadata": {},
   "source": [
    "# 1. what is the total bill value?"
   ]
  },
  {
   "cell_type": "code",
   "execution_count": 12,
   "id": "5cbf839b",
   "metadata": {},
   "outputs": [
    {
     "data": {
      "text/plain": [
       "4827.77"
      ]
     },
     "execution_count": 12,
     "metadata": {},
     "output_type": "execute_result"
    }
   ],
   "source": [
    "np.sum(t[:,1])"
   ]
  },
  {
   "cell_type": "markdown",
   "id": "490dd72c",
   "metadata": {},
   "source": [
    "# 2. what is the total tip value?"
   ]
  },
  {
   "cell_type": "code",
   "execution_count": 13,
   "id": "fdc6a4d8",
   "metadata": {},
   "outputs": [
    {
     "data": {
      "text/plain": [
       "731.5799999999999"
      ]
     },
     "execution_count": 13,
     "metadata": {},
     "output_type": "execute_result"
    }
   ],
   "source": [
    "np.sum(t[:,2])"
   ]
  },
  {
   "cell_type": "markdown",
   "id": "717f337c",
   "metadata": {},
   "source": [
    "# 3. count how many times sunday,saturday,thursday,friday are there."
   ]
  },
  {
   "cell_type": "code",
   "execution_count": null,
   "id": "47067734",
   "metadata": {},
   "outputs": [],
   "source": []
  },
  {
   "cell_type": "code",
   "execution_count": null,
   "id": "953b4820",
   "metadata": {},
   "outputs": [],
   "source": []
  },
  {
   "cell_type": "markdown",
   "id": "31d9b032",
   "metadata": {},
   "source": [
    "# 4. how many smokers are there?"
   ]
  },
  {
   "cell_type": "code",
   "execution_count": 15,
   "id": "c75d7eda",
   "metadata": {},
   "outputs": [
    {
     "name": "stdout",
     "output_type": "stream",
     "text": [
      "93.0\n"
     ]
    }
   ],
   "source": [
    "x=np.sum(t[:,4])\n",
    "print(x)"
   ]
  },
  {
   "cell_type": "markdown",
   "id": "b1cbf3ba",
   "metadata": {},
   "source": [
    "# 5. what is the average tip given by female and male?"
   ]
  },
  {
   "cell_type": "code",
   "execution_count": 20,
   "id": "272d4bc6",
   "metadata": {},
   "outputs": [
    {
     "name": "stdout",
     "output_type": "stream",
     "text": [
      "2.8334482758620685 average tip by female\n",
      "1.5701273885350315 average tip by male\n"
     ]
    }
   ],
   "source": [
    "x1=np.sum(t[:,2].take(np.where(t[:,3]==0)))\n",
    "x2=np.sum(t[:,2].take(np.where(t[:,3]==1)))\n",
    "y1=np.unique(t[:,3],return_counts=True)\n",
    "s,u=y1\n",
    "print(x1/u[0],\"average tip by female\")\n",
    "print(x1/u[1],\"average tip by male\")"
   ]
  },
  {
   "cell_type": "markdown",
   "id": "05a4d695",
   "metadata": {},
   "source": [
    "# 6. how much amount have been spent by female and male."
   ]
  },
  {
   "cell_type": "code",
   "execution_count": 21,
   "id": "23ce1c4f",
   "metadata": {},
   "outputs": [
    {
     "name": "stdout",
     "output_type": "stream",
     "text": [
      "1570.9499999999996 =amount spent by females\n",
      "3256.8199999999997 =amount spent by females\n"
     ]
    }
   ],
   "source": [
    "x1=np.sum(t[:,1].take(np.where(t[:,3]==0)))\n",
    "x2=np.sum(t[:,1].take(np.where(t[:,3]==1)))\n",
    "print(x1,\"=amount spent by females\")\n",
    "print(x2,\"=amount spent by females\")"
   ]
  },
  {
   "cell_type": "markdown",
   "id": "4873a92e",
   "metadata": {},
   "source": [
    "# 7. what is the min and max tip given?"
   ]
  },
  {
   "cell_type": "code",
   "execution_count": 23,
   "id": "120ab56d",
   "metadata": {},
   "outputs": [
    {
     "name": "stdout",
     "output_type": "stream",
     "text": [
      "minimum tip given  1.0\n",
      "maximum tip given  10.0\n"
     ]
    }
   ],
   "source": [
    "mintip=np.min(t[:,2])\n",
    "maxtip=np.max(t[:,2])\n",
    "print(\"minimum tip given \",mintip)\n",
    "print(\"maximum tip given \",maxtip)"
   ]
  },
  {
   "cell_type": "markdown",
   "id": "4e582b58",
   "metadata": {},
   "source": [
    "# 8. how many male and female are going for dinner and lunch?"
   ]
  },
  {
   "cell_type": "code",
   "execution_count": null,
   "id": "5e1a4b75",
   "metadata": {},
   "outputs": [],
   "source": []
  },
  {
   "cell_type": "markdown",
   "id": "2eee9efd",
   "metadata": {},
   "source": [
    "# 9. find out the average size?"
   ]
  },
  {
   "cell_type": "code",
   "execution_count": 26,
   "id": "67149577",
   "metadata": {},
   "outputs": [
    {
     "data": {
      "text/plain": [
       "2.569672131147541"
      ]
     },
     "execution_count": 26,
     "metadata": {},
     "output_type": "execute_result"
    }
   ],
   "source": [
    "np.mean(t[:,7])"
   ]
  },
  {
   "cell_type": "markdown",
   "id": "7bcb4010",
   "metadata": {},
   "source": [
    "# 10. how many female and male smokers are there?"
   ]
  },
  {
   "cell_type": "code",
   "execution_count": null,
   "id": "ecc65ef3",
   "metadata": {},
   "outputs": [],
   "source": []
  },
  {
   "cell_type": "markdown",
   "id": "42972912",
   "metadata": {},
   "source": [
    "# second question train_extended"
   ]
  },
  {
   "cell_type": "code",
   "execution_count": 4,
   "id": "a521af8a",
   "metadata": {},
   "outputs": [],
   "source": [
    "x=np.genfromtxt(r\"C:\\Users\\pavan\\Downloads\\train_extended.csv\",delimiter=\",\",skip_header=1)"
   ]
  },
  {
   "cell_type": "code",
   "execution_count": 5,
   "id": "06f3e726",
   "metadata": {},
   "outputs": [
    {
     "data": {
      "text/plain": [
       "array([[ 1.575     ,  1.225     ,  0.375     , ...,  6.3219385 ,\n",
       "         9.63883   , 10.        ],\n",
       "       [ 1.2375    ,  1.        ,  0.375     , ...,  3.798833  ,\n",
       "         7.654365  , 19.        ],\n",
       "       [ 1.45      ,  1.1625    ,  0.4125    , ...,  7.01650125,\n",
       "         7.257472  , 11.        ],\n",
       "       ...,\n",
       "       [ 1.125     ,  0.9125    ,  0.2875    , ...,  1.984465  ,\n",
       "         3.118445  ,  7.        ],\n",
       "       [ 1.625     ,  1.275     ,  0.4125    , ...,  7.86698625,\n",
       "        10.489315  , 11.        ],\n",
       "       [ 1.5875    ,  1.25      ,  0.3875    , ...,  7.38504475,\n",
       "         8.788345  , 11.        ]])"
      ]
     },
     "execution_count": 5,
     "metadata": {},
     "output_type": "execute_result"
    }
   ],
   "source": [
    "x"
   ]
  },
  {
   "cell_type": "markdown",
   "id": "cf9d979f",
   "metadata": {},
   "source": [
    "# 1. what is max and min length?"
   ]
  },
  {
   "cell_type": "code",
   "execution_count": 29,
   "id": "14fb9e36",
   "metadata": {},
   "outputs": [
    {
     "data": {
      "text/plain": [
       "7.58349125"
      ]
     },
     "execution_count": 29,
     "metadata": {},
     "output_type": "execute_result"
    }
   ],
   "source": [
    "np.max(x[:,0])"
   ]
  },
  {
   "cell_type": "code",
   "execution_count": 30,
   "id": "21187006",
   "metadata": {},
   "outputs": [
    {
     "data": {
      "text/plain": [
       "0.0"
      ]
     },
     "execution_count": 30,
     "metadata": {},
     "output_type": "execute_result"
    }
   ],
   "source": [
    "np.min(x[:,0])"
   ]
  },
  {
   "cell_type": "markdown",
   "id": "0a40191a",
   "metadata": {},
   "source": [
    "# 2. difference between max and min length?"
   ]
  },
  {
   "cell_type": "code",
   "execution_count": 32,
   "id": "e8aab144",
   "metadata": {},
   "outputs": [
    {
     "name": "stdout",
     "output_type": "stream",
     "text": [
      "difference of max and min is  7.58349125\n"
     ]
    }
   ],
   "source": [
    "y=np.max(x[:,0])-np.min(x[:,0])\n",
    "print(\"difference of max and min is \",y)"
   ]
  },
  {
   "cell_type": "markdown",
   "id": "ed0db958",
   "metadata": {},
   "source": [
    "# 3. find column wise average?"
   ]
  },
  {
   "cell_type": "code",
   "execution_count": 33,
   "id": "d9d38921",
   "metadata": {},
   "outputs": [
    {
     "data": {
      "text/plain": [
       "array([ 1.31244808,  1.02032036,  0.34602787, 23.12343631,  9.98937025,\n",
       "        4.99318096,  6.63422915,  9.950615  ])"
      ]
     },
     "execution_count": 33,
     "metadata": {},
     "output_type": "execute_result"
    }
   ],
   "source": [
    "np.mean(x,axis=0)"
   ]
  },
  {
   "cell_type": "markdown",
   "id": "6aa686e9",
   "metadata": {},
   "source": [
    "# 4. find out all the age whose height is greater than 0.4?"
   ]
  },
  {
   "cell_type": "code",
   "execution_count": 42,
   "id": "85ef9dd3",
   "metadata": {},
   "outputs": [
    {
     "name": "stdout",
     "output_type": "stream",
     "text": [
      "[[0.4125 0.4375 0.4375 ... 0.425  0.4375 0.4125]]\n"
     ]
    }
   ],
   "source": [
    "t=x[:,2].take(np.where(x[:,2]>0.4))\n",
    "print(t)"
   ]
  },
  {
   "cell_type": "markdown",
   "id": "a4a57ae7",
   "metadata": {},
   "source": [
    "# 5. what is the average height and weight of the persons who age is 10?"
   ]
  },
  {
   "cell_type": "code",
   "execution_count": 8,
   "id": "f6c443a4",
   "metadata": {},
   "outputs": [
    {
     "name": "stdout",
     "output_type": "stream",
     "text": [
      "average height whose age is 10  0.3833672856539947\n",
      "average weight whose age is 10  28.243308450511314\n"
     ]
    }
   ],
   "source": [
    "y1=np.array(x[:,2].take(np.where(x[:,7]==10)))\n",
    "print(\"average height whose age is 10 \",np.mean(y1))\n",
    "y2=np.array(x[:,3].take(np.where(x[:,7]==10)))\n",
    "print(\"average weight whose age is 10 \",np.mean(y2))"
   ]
  },
  {
   "cell_type": "markdown",
   "id": "c68dc4f6",
   "metadata": {},
   "source": [
    "# 6. what is total shell weight?"
   ]
  },
  {
   "cell_type": "code",
   "execution_count": 9,
   "id": "0d787caa",
   "metadata": {},
   "outputs": [
    {
     "data": {
      "text/plain": [
       "1326845.8295214002"
      ]
     },
     "execution_count": 9,
     "metadata": {},
     "output_type": "execute_result"
    }
   ],
   "source": [
    "np.sum(x[:,6])"
   ]
  },
  {
   "cell_type": "markdown",
   "id": "a92d09b0",
   "metadata": {},
   "source": [
    "# 7. how many people belongs to each and every unique age?"
   ]
  },
  {
   "cell_type": "code",
   "execution_count": 11,
   "id": "2a8a6ba1",
   "metadata": {},
   "outputs": [
    {
     "name": "stdout",
     "output_type": "stream",
     "text": [
      "(array([ 1.,  2.,  3.,  4.,  5.,  6.,  7.,  8.,  9., 10., 11., 12., 13.,\n",
      "       14., 15., 16., 17., 18., 19., 20., 21., 22., 23., 24., 25., 26.,\n",
      "       27., 29.]), array([   46,    42,   625,  2787,  5475, 12450, 18276, 26818, 32906,\n",
      "       30803, 23457, 12717, 10037,  6352,  4831,  3191,  2705,  1953,\n",
      "        1591,  1206,   721,   296,   352,   110,    51,    46,    99,\n",
      "          57], dtype=int64))\n"
     ]
    }
   ],
   "source": [
    "a=np.unique(x[:,7],return_counts=True)\n",
    "print(a)"
   ]
  },
  {
   "cell_type": "markdown",
   "id": "0374fe89",
   "metadata": {},
   "source": [
    "# 8. difference between shuckled and viscera weight?"
   ]
  },
  {
   "cell_type": "code",
   "execution_count": 12,
   "id": "d87b76a2",
   "metadata": {},
   "outputs": [
    {
     "name": "stdout",
     "output_type": "stream",
     "text": [
      "999237.8582600503\n"
     ]
    }
   ],
   "source": [
    "x1=np.sum(x[:,4])\n",
    "x2=np.sum(x[:,5])\n",
    "print(x1-x2)"
   ]
  },
  {
   "cell_type": "markdown",
   "id": "58fd0220",
   "metadata": {},
   "source": [
    "# 9. avg height of person whose age is greater than 14 and less than 19?"
   ]
  },
  {
   "cell_type": "code",
   "execution_count": 16,
   "id": "b185fea0",
   "metadata": {},
   "outputs": [
    {
     "name": "stdout",
     "output_type": "stream",
     "text": [
      "0.4190701892744479\n"
     ]
    }
   ],
   "source": [
    "y1=np.array(x[:,2].take(np.where((x[:,7]>14) & (x[:,7]<19))))\n",
    "print(np.mean(y1))"
   ]
  },
  {
   "cell_type": "markdown",
   "id": "7adf05f2",
   "metadata": {},
   "source": [
    "# 10. avg weight if we include all weights?"
   ]
  },
  {
   "cell_type": "code",
   "execution_count": 17,
   "id": "6342ccca",
   "metadata": {},
   "outputs": [],
   "source": [
    "s1=np.sum(x[:3:7])\n",
    "count=list(x.shape)"
   ]
  },
  {
   "cell_type": "code",
   "execution_count": 22,
   "id": "2051013a",
   "metadata": {},
   "outputs": [
    {
     "name": "stdout",
     "output_type": "stream",
     "text": [
      "73.0 200000\n"
     ]
    }
   ],
   "source": [
    "print(np.round(s1),count[0])"
   ]
  },
  {
   "cell_type": "code",
   "execution_count": null,
   "id": "b981ffff",
   "metadata": {},
   "outputs": [],
   "source": []
  },
  {
   "cell_type": "code",
   "execution_count": null,
   "id": "6e7b21fb",
   "metadata": {},
   "outputs": [],
   "source": []
  }
 ],
 "metadata": {
  "kernelspec": {
   "display_name": "Python 3 (ipykernel)",
   "language": "python",
   "name": "python3"
  },
  "language_info": {
   "codemirror_mode": {
    "name": "ipython",
    "version": 3
   },
   "file_extension": ".py",
   "mimetype": "text/x-python",
   "name": "python",
   "nbconvert_exporter": "python",
   "pygments_lexer": "ipython3",
   "version": "3.11.3"
  }
 },
 "nbformat": 4,
 "nbformat_minor": 5
}
