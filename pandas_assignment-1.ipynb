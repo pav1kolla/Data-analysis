{
 "cells": [
  {
   "cell_type": "code",
   "execution_count": 1,
   "id": "2e7e519d",
   "metadata": {},
   "outputs": [],
   "source": [
    "import pandas as pd\n",
    "import numpy as np"
   ]
  },
  {
   "cell_type": "code",
   "execution_count": 3,
   "id": "ca1cd92a",
   "metadata": {},
   "outputs": [],
   "source": [
    "dt=pd.read_csv(r\"C:\\Users\\pavan\\Downloads\\cleaned_all_phones (1).csv\")"
   ]
  },
  {
   "cell_type": "code",
   "execution_count": 4,
   "id": "d4388eff",
   "metadata": {},
   "outputs": [],
   "source": [
    "data=dt.copy()"
   ]
  },
  {
   "cell_type": "code",
   "execution_count": 5,
   "id": "b7d35457",
   "metadata": {},
   "outputs": [
    {
     "data": {
      "text/html": [
       "<div>\n",
       "<style scoped>\n",
       "    .dataframe tbody tr th:only-of-type {\n",
       "        vertical-align: middle;\n",
       "    }\n",
       "\n",
       "    .dataframe tbody tr th {\n",
       "        vertical-align: top;\n",
       "    }\n",
       "\n",
       "    .dataframe thead th {\n",
       "        text-align: right;\n",
       "    }\n",
       "</style>\n",
       "<table border=\"1\" class=\"dataframe\">\n",
       "  <thead>\n",
       "    <tr style=\"text-align: right;\">\n",
       "      <th></th>\n",
       "      <th>phone_name</th>\n",
       "      <th>brand</th>\n",
       "      <th>os</th>\n",
       "      <th>inches</th>\n",
       "      <th>resolution</th>\n",
       "      <th>battery</th>\n",
       "      <th>battery_type</th>\n",
       "      <th>ram(GB)</th>\n",
       "      <th>announcement_date</th>\n",
       "      <th>weight(g)</th>\n",
       "      <th>...</th>\n",
       "      <th>video_1080p</th>\n",
       "      <th>video_4K</th>\n",
       "      <th>video_8K</th>\n",
       "      <th>video_30fps</th>\n",
       "      <th>video_60fps</th>\n",
       "      <th>video_120fps</th>\n",
       "      <th>video_240fps</th>\n",
       "      <th>video_480fps</th>\n",
       "      <th>video_960fps</th>\n",
       "      <th>price(USD)</th>\n",
       "    </tr>\n",
       "  </thead>\n",
       "  <tbody>\n",
       "    <tr>\n",
       "      <th>0</th>\n",
       "      <td>Y6II Compact</td>\n",
       "      <td>Huawei</td>\n",
       "      <td>Android 5.1</td>\n",
       "      <td>5.00</td>\n",
       "      <td>720x1280</td>\n",
       "      <td>2200</td>\n",
       "      <td>Li-Po</td>\n",
       "      <td>2</td>\n",
       "      <td>2016-09-01</td>\n",
       "      <td>140.0</td>\n",
       "      <td>...</td>\n",
       "      <td>False</td>\n",
       "      <td>False</td>\n",
       "      <td>False</td>\n",
       "      <td>True</td>\n",
       "      <td>False</td>\n",
       "      <td>False</td>\n",
       "      <td>False</td>\n",
       "      <td>False</td>\n",
       "      <td>False</td>\n",
       "      <td>120.000</td>\n",
       "    </tr>\n",
       "    <tr>\n",
       "      <th>1</th>\n",
       "      <td>K20 plus</td>\n",
       "      <td>LG</td>\n",
       "      <td>Android 7.0</td>\n",
       "      <td>5.30</td>\n",
       "      <td>720x1280</td>\n",
       "      <td>2700</td>\n",
       "      <td>Li-Ion</td>\n",
       "      <td>2</td>\n",
       "      <td>2016-12-01</td>\n",
       "      <td>140.0</td>\n",
       "      <td>...</td>\n",
       "      <td>True</td>\n",
       "      <td>False</td>\n",
       "      <td>False</td>\n",
       "      <td>True</td>\n",
       "      <td>False</td>\n",
       "      <td>False</td>\n",
       "      <td>False</td>\n",
       "      <td>False</td>\n",
       "      <td>False</td>\n",
       "      <td>100.000</td>\n",
       "    </tr>\n",
       "    <tr>\n",
       "      <th>2</th>\n",
       "      <td>P8 Lite (2017)</td>\n",
       "      <td>Huawei</td>\n",
       "      <td>Android 7.0</td>\n",
       "      <td>5.20</td>\n",
       "      <td>1080x1920</td>\n",
       "      <td>3000</td>\n",
       "      <td>Li-Ion</td>\n",
       "      <td>4</td>\n",
       "      <td>2017-01-01</td>\n",
       "      <td>147.0</td>\n",
       "      <td>...</td>\n",
       "      <td>True</td>\n",
       "      <td>False</td>\n",
       "      <td>False</td>\n",
       "      <td>True</td>\n",
       "      <td>False</td>\n",
       "      <td>False</td>\n",
       "      <td>False</td>\n",
       "      <td>False</td>\n",
       "      <td>False</td>\n",
       "      <td>420.000</td>\n",
       "    </tr>\n",
       "    <tr>\n",
       "      <th>3</th>\n",
       "      <td>Redmi Note 4</td>\n",
       "      <td>Xiaomi</td>\n",
       "      <td>Android 6.0</td>\n",
       "      <td>5.50</td>\n",
       "      <td>1080x1920</td>\n",
       "      <td>4100</td>\n",
       "      <td>Li-Po</td>\n",
       "      <td>4</td>\n",
       "      <td>2017-01-01</td>\n",
       "      <td>165.0</td>\n",
       "      <td>...</td>\n",
       "      <td>True</td>\n",
       "      <td>False</td>\n",
       "      <td>False</td>\n",
       "      <td>True</td>\n",
       "      <td>False</td>\n",
       "      <td>True</td>\n",
       "      <td>False</td>\n",
       "      <td>False</td>\n",
       "      <td>False</td>\n",
       "      <td>150.000</td>\n",
       "    </tr>\n",
       "    <tr>\n",
       "      <th>4</th>\n",
       "      <td>P10</td>\n",
       "      <td>Huawei</td>\n",
       "      <td>Android 7.0</td>\n",
       "      <td>5.10</td>\n",
       "      <td>1080x1920</td>\n",
       "      <td>3200</td>\n",
       "      <td>Li-Ion</td>\n",
       "      <td>4</td>\n",
       "      <td>2017-02-01</td>\n",
       "      <td>145.0</td>\n",
       "      <td>...</td>\n",
       "      <td>True</td>\n",
       "      <td>True</td>\n",
       "      <td>False</td>\n",
       "      <td>True</td>\n",
       "      <td>True</td>\n",
       "      <td>False</td>\n",
       "      <td>False</td>\n",
       "      <td>False</td>\n",
       "      <td>False</td>\n",
       "      <td>420.000</td>\n",
       "    </tr>\n",
       "    <tr>\n",
       "      <th>...</th>\n",
       "      <td>...</td>\n",
       "      <td>...</td>\n",
       "      <td>...</td>\n",
       "      <td>...</td>\n",
       "      <td>...</td>\n",
       "      <td>...</td>\n",
       "      <td>...</td>\n",
       "      <td>...</td>\n",
       "      <td>...</td>\n",
       "      <td>...</td>\n",
       "      <td>...</td>\n",
       "      <td>...</td>\n",
       "      <td>...</td>\n",
       "      <td>...</td>\n",
       "      <td>...</td>\n",
       "      <td>...</td>\n",
       "      <td>...</td>\n",
       "      <td>...</td>\n",
       "      <td>...</td>\n",
       "      <td>...</td>\n",
       "      <td>...</td>\n",
       "    </tr>\n",
       "    <tr>\n",
       "      <th>1507</th>\n",
       "      <td>vivo Y77t</td>\n",
       "      <td>Vivo</td>\n",
       "      <td>Android 13</td>\n",
       "      <td>6.64</td>\n",
       "      <td>1080x2388</td>\n",
       "      <td>5000</td>\n",
       "      <td>Li-Po</td>\n",
       "      <td>8</td>\n",
       "      <td>2023-08-18</td>\n",
       "      <td>190.0</td>\n",
       "      <td>...</td>\n",
       "      <td>True</td>\n",
       "      <td>False</td>\n",
       "      <td>False</td>\n",
       "      <td>True</td>\n",
       "      <td>False</td>\n",
       "      <td>False</td>\n",
       "      <td>False</td>\n",
       "      <td>False</td>\n",
       "      <td>False</td>\n",
       "      <td>170.000</td>\n",
       "    </tr>\n",
       "    <tr>\n",
       "      <th>1508</th>\n",
       "      <td>11x</td>\n",
       "      <td>Realme</td>\n",
       "      <td>Android 13</td>\n",
       "      <td>6.72</td>\n",
       "      <td>1080x2400</td>\n",
       "      <td>5000</td>\n",
       "      <td>Li-Po</td>\n",
       "      <td>8</td>\n",
       "      <td>2023-08-23</td>\n",
       "      <td>190.0</td>\n",
       "      <td>...</td>\n",
       "      <td>True</td>\n",
       "      <td>False</td>\n",
       "      <td>False</td>\n",
       "      <td>True</td>\n",
       "      <td>False</td>\n",
       "      <td>False</td>\n",
       "      <td>False</td>\n",
       "      <td>False</td>\n",
       "      <td>False</td>\n",
       "      <td>182.880</td>\n",
       "    </tr>\n",
       "    <tr>\n",
       "      <th>1509</th>\n",
       "      <td>GT5</td>\n",
       "      <td>Realme</td>\n",
       "      <td>Android 13</td>\n",
       "      <td>6.74</td>\n",
       "      <td>1240x2772</td>\n",
       "      <td>5240</td>\n",
       "      <td>Li-Po</td>\n",
       "      <td>16</td>\n",
       "      <td>2023-08-28</td>\n",
       "      <td>205.0</td>\n",
       "      <td>...</td>\n",
       "      <td>True</td>\n",
       "      <td>True</td>\n",
       "      <td>False</td>\n",
       "      <td>False</td>\n",
       "      <td>True</td>\n",
       "      <td>False</td>\n",
       "      <td>False</td>\n",
       "      <td>False</td>\n",
       "      <td>False</td>\n",
       "      <td>380.000</td>\n",
       "    </tr>\n",
       "    <tr>\n",
       "      <th>1510</th>\n",
       "      <td>GT5 240W</td>\n",
       "      <td>Realme</td>\n",
       "      <td>Android 13</td>\n",
       "      <td>6.74</td>\n",
       "      <td>1240x2772</td>\n",
       "      <td>4600</td>\n",
       "      <td>Li-Po</td>\n",
       "      <td>24</td>\n",
       "      <td>2023-08-28</td>\n",
       "      <td>205.0</td>\n",
       "      <td>...</td>\n",
       "      <td>True</td>\n",
       "      <td>True</td>\n",
       "      <td>False</td>\n",
       "      <td>False</td>\n",
       "      <td>True</td>\n",
       "      <td>False</td>\n",
       "      <td>False</td>\n",
       "      <td>False</td>\n",
       "      <td>False</td>\n",
       "      <td>470.000</td>\n",
       "    </tr>\n",
       "    <tr>\n",
       "      <th>1511</th>\n",
       "      <td>vivo iQOO Z7 Pro</td>\n",
       "      <td>Vivo</td>\n",
       "      <td>Android 13</td>\n",
       "      <td>6.78</td>\n",
       "      <td>1080x2400</td>\n",
       "      <td>4600</td>\n",
       "      <td>Li-Po</td>\n",
       "      <td>8</td>\n",
       "      <td>2023-08-31</td>\n",
       "      <td>175.0</td>\n",
       "      <td>...</td>\n",
       "      <td>True</td>\n",
       "      <td>True</td>\n",
       "      <td>False</td>\n",
       "      <td>True</td>\n",
       "      <td>False</td>\n",
       "      <td>False</td>\n",
       "      <td>False</td>\n",
       "      <td>False</td>\n",
       "      <td>False</td>\n",
       "      <td>287.988</td>\n",
       "    </tr>\n",
       "  </tbody>\n",
       "</table>\n",
       "<p>1512 rows × 22 columns</p>\n",
       "</div>"
      ],
      "text/plain": [
       "            phone_name   brand           os  inches resolution  battery  \\\n",
       "0         Y6II Compact  Huawei  Android 5.1    5.00   720x1280     2200   \n",
       "1             K20 plus      LG  Android 7.0    5.30   720x1280     2700   \n",
       "2       P8 Lite (2017)  Huawei  Android 7.0    5.20  1080x1920     3000   \n",
       "3         Redmi Note 4  Xiaomi  Android 6.0    5.50  1080x1920     4100   \n",
       "4                  P10  Huawei  Android 7.0    5.10  1080x1920     3200   \n",
       "...                ...     ...          ...     ...        ...      ...   \n",
       "1507         vivo Y77t    Vivo   Android 13    6.64  1080x2388     5000   \n",
       "1508               11x  Realme   Android 13    6.72  1080x2400     5000   \n",
       "1509               GT5  Realme   Android 13    6.74  1240x2772     5240   \n",
       "1510          GT5 240W  Realme   Android 13    6.74  1240x2772     4600   \n",
       "1511  vivo iQOO Z7 Pro    Vivo   Android 13    6.78  1080x2400     4600   \n",
       "\n",
       "     battery_type  ram(GB) announcement_date  weight(g)  ...  video_1080p  \\\n",
       "0           Li-Po        2        2016-09-01      140.0  ...        False   \n",
       "1          Li-Ion        2        2016-12-01      140.0  ...         True   \n",
       "2          Li-Ion        4        2017-01-01      147.0  ...         True   \n",
       "3           Li-Po        4        2017-01-01      165.0  ...         True   \n",
       "4          Li-Ion        4        2017-02-01      145.0  ...         True   \n",
       "...           ...      ...               ...        ...  ...          ...   \n",
       "1507        Li-Po        8        2023-08-18      190.0  ...         True   \n",
       "1508        Li-Po        8        2023-08-23      190.0  ...         True   \n",
       "1509        Li-Po       16        2023-08-28      205.0  ...         True   \n",
       "1510        Li-Po       24        2023-08-28      205.0  ...         True   \n",
       "1511        Li-Po        8        2023-08-31      175.0  ...         True   \n",
       "\n",
       "      video_4K  video_8K  video_30fps  video_60fps  video_120fps  \\\n",
       "0        False     False         True        False         False   \n",
       "1        False     False         True        False         False   \n",
       "2        False     False         True        False         False   \n",
       "3        False     False         True        False          True   \n",
       "4         True     False         True         True         False   \n",
       "...        ...       ...          ...          ...           ...   \n",
       "1507     False     False         True        False         False   \n",
       "1508     False     False         True        False         False   \n",
       "1509      True     False        False         True         False   \n",
       "1510      True     False        False         True         False   \n",
       "1511      True     False         True        False         False   \n",
       "\n",
       "      video_240fps  video_480fps  video_960fps  price(USD)  \n",
       "0            False         False         False     120.000  \n",
       "1            False         False         False     100.000  \n",
       "2            False         False         False     420.000  \n",
       "3            False         False         False     150.000  \n",
       "4            False         False         False     420.000  \n",
       "...            ...           ...           ...         ...  \n",
       "1507         False         False         False     170.000  \n",
       "1508         False         False         False     182.880  \n",
       "1509         False         False         False     380.000  \n",
       "1510         False         False         False     470.000  \n",
       "1511         False         False         False     287.988  \n",
       "\n",
       "[1512 rows x 22 columns]"
      ]
     },
     "execution_count": 5,
     "metadata": {},
     "output_type": "execute_result"
    }
   ],
   "source": [
    "data"
   ]
  },
  {
   "cell_type": "code",
   "execution_count": 6,
   "id": "c482106f",
   "metadata": {},
   "outputs": [
    {
     "name": "stdout",
     "output_type": "stream",
     "text": [
      "<class 'pandas.core.frame.DataFrame'>\n",
      "RangeIndex: 1512 entries, 0 to 1511\n",
      "Data columns (total 22 columns):\n",
      " #   Column             Non-Null Count  Dtype  \n",
      "---  ------             --------------  -----  \n",
      " 0   phone_name         1512 non-null   object \n",
      " 1   brand              1512 non-null   object \n",
      " 2   os                 1512 non-null   object \n",
      " 3   inches             1512 non-null   float64\n",
      " 4   resolution         1512 non-null   object \n",
      " 5   battery            1512 non-null   int64  \n",
      " 6   battery_type       1512 non-null   object \n",
      " 7   ram(GB)            1512 non-null   int64  \n",
      " 8   announcement_date  1512 non-null   object \n",
      " 9   weight(g)          1512 non-null   float64\n",
      " 10  storage(GB)        1512 non-null   int64  \n",
      " 11  video_720p         1512 non-null   bool   \n",
      " 12  video_1080p        1512 non-null   bool   \n",
      " 13  video_4K           1512 non-null   bool   \n",
      " 14  video_8K           1512 non-null   bool   \n",
      " 15  video_30fps        1512 non-null   bool   \n",
      " 16  video_60fps        1512 non-null   bool   \n",
      " 17  video_120fps       1512 non-null   bool   \n",
      " 18  video_240fps       1512 non-null   bool   \n",
      " 19  video_480fps       1512 non-null   bool   \n",
      " 20  video_960fps       1512 non-null   bool   \n",
      " 21  price(USD)         1512 non-null   float64\n",
      "dtypes: bool(10), float64(3), int64(3), object(6)\n",
      "memory usage: 156.6+ KB\n"
     ]
    }
   ],
   "source": [
    "data.info()"
   ]
  },
  {
   "cell_type": "markdown",
   "id": "308f9a41",
   "metadata": {},
   "source": [
    "# 1. How many unique mobile brands are there in the data provided?"
   ]
  },
  {
   "cell_type": "code",
   "execution_count": 7,
   "id": "bef81091",
   "metadata": {},
   "outputs": [
    {
     "data": {
      "text/plain": [
       "13"
      ]
     },
     "execution_count": 7,
     "metadata": {},
     "output_type": "execute_result"
    }
   ],
   "source": [
    "len(data['brand'].unique())"
   ]
  },
  {
   "cell_type": "code",
   "execution_count": 8,
   "id": "660dcfd3",
   "metadata": {},
   "outputs": [],
   "source": [
    "data1=data.groupby([\"brand\"])"
   ]
  },
  {
   "cell_type": "code",
   "execution_count": 9,
   "id": "141d3421",
   "metadata": {},
   "outputs": [
    {
     "data": {
      "text/html": [
       "<div>\n",
       "<style scoped>\n",
       "    .dataframe tbody tr th:only-of-type {\n",
       "        vertical-align: middle;\n",
       "    }\n",
       "\n",
       "    .dataframe tbody tr th {\n",
       "        vertical-align: top;\n",
       "    }\n",
       "\n",
       "    .dataframe thead tr th {\n",
       "        text-align: left;\n",
       "    }\n",
       "\n",
       "    .dataframe thead tr:last-of-type th {\n",
       "        text-align: right;\n",
       "    }\n",
       "</style>\n",
       "<table border=\"1\" class=\"dataframe\">\n",
       "  <thead>\n",
       "    <tr>\n",
       "      <th></th>\n",
       "      <th colspan=\"2\" halign=\"left\">ram(GB)</th>\n",
       "      <th colspan=\"2\" halign=\"left\">battery</th>\n",
       "      <th colspan=\"2\" halign=\"left\">price(USD)</th>\n",
       "      <th colspan=\"2\" halign=\"left\">announcement_date</th>\n",
       "      <th>phone_name</th>\n",
       "    </tr>\n",
       "    <tr>\n",
       "      <th></th>\n",
       "      <th>min</th>\n",
       "      <th>max</th>\n",
       "      <th>min</th>\n",
       "      <th>max</th>\n",
       "      <th>max</th>\n",
       "      <th>min</th>\n",
       "      <th>max</th>\n",
       "      <th>min</th>\n",
       "      <th>count</th>\n",
       "    </tr>\n",
       "    <tr>\n",
       "      <th>brand</th>\n",
       "      <th></th>\n",
       "      <th></th>\n",
       "      <th></th>\n",
       "      <th></th>\n",
       "      <th></th>\n",
       "      <th></th>\n",
       "      <th></th>\n",
       "      <th></th>\n",
       "      <th></th>\n",
       "    </tr>\n",
       "  </thead>\n",
       "  <tbody>\n",
       "    <tr>\n",
       "      <th>Apple</th>\n",
       "      <td>2</td>\n",
       "      <td>6</td>\n",
       "      <td>1821</td>\n",
       "      <td>4352</td>\n",
       "      <td>1580.09</td>\n",
       "      <td>189.50</td>\n",
       "      <td>2022-09-07</td>\n",
       "      <td>2017-09-12</td>\n",
       "      <td>22</td>\n",
       "    </tr>\n",
       "    <tr>\n",
       "      <th>Google</th>\n",
       "      <td>4</td>\n",
       "      <td>12</td>\n",
       "      <td>2700</td>\n",
       "      <td>5003</td>\n",
       "      <td>1750.00</td>\n",
       "      <td>238.00</td>\n",
       "      <td>2023-05-10</td>\n",
       "      <td>2017-10-04</td>\n",
       "      <td>19</td>\n",
       "    </tr>\n",
       "    <tr>\n",
       "      <th>Honor</th>\n",
       "      <td>2</td>\n",
       "      <td>16</td>\n",
       "      <td>3000</td>\n",
       "      <td>7250</td>\n",
       "      <td>1500.00</td>\n",
       "      <td>90.00</td>\n",
       "      <td>2023-07-28</td>\n",
       "      <td>2017-12-01</td>\n",
       "      <td>124</td>\n",
       "    </tr>\n",
       "    <tr>\n",
       "      <th>Huawei</th>\n",
       "      <td>1</td>\n",
       "      <td>12</td>\n",
       "      <td>2200</td>\n",
       "      <td>7000</td>\n",
       "      <td>2300.00</td>\n",
       "      <td>90.00</td>\n",
       "      <td>2023-05-23</td>\n",
       "      <td>2016-09-01</td>\n",
       "      <td>137</td>\n",
       "    </tr>\n",
       "    <tr>\n",
       "      <th>LG</th>\n",
       "      <td>1</td>\n",
       "      <td>8</td>\n",
       "      <td>2410</td>\n",
       "      <td>5000</td>\n",
       "      <td>1100.00</td>\n",
       "      <td>70.00</td>\n",
       "      <td>2021-02-22</td>\n",
       "      <td>2016-12-01</td>\n",
       "      <td>75</td>\n",
       "    </tr>\n",
       "    <tr>\n",
       "      <th>Lenovo</th>\n",
       "      <td>2</td>\n",
       "      <td>18</td>\n",
       "      <td>3000</td>\n",
       "      <td>7000</td>\n",
       "      <td>880.00</td>\n",
       "      <td>90.00</td>\n",
       "      <td>2023-07-22</td>\n",
       "      <td>2017-08-01</td>\n",
       "      <td>43</td>\n",
       "    </tr>\n",
       "    <tr>\n",
       "      <th>OnePlus</th>\n",
       "      <td>4</td>\n",
       "      <td>24</td>\n",
       "      <td>3300</td>\n",
       "      <td>5000</td>\n",
       "      <td>1030.00</td>\n",
       "      <td>119.00</td>\n",
       "      <td>2023-08-16</td>\n",
       "      <td>2018-05-16</td>\n",
       "      <td>47</td>\n",
       "    </tr>\n",
       "    <tr>\n",
       "      <th>Oppo</th>\n",
       "      <td>2</td>\n",
       "      <td>16</td>\n",
       "      <td>2900</td>\n",
       "      <td>5000</td>\n",
       "      <td>1350.00</td>\n",
       "      <td>100.00</td>\n",
       "      <td>2023-07-26</td>\n",
       "      <td>2017-03-01</td>\n",
       "      <td>213</td>\n",
       "    </tr>\n",
       "    <tr>\n",
       "      <th>Realme</th>\n",
       "      <td>2</td>\n",
       "      <td>24</td>\n",
       "      <td>3410</td>\n",
       "      <td>6000</td>\n",
       "      <td>839.95</td>\n",
       "      <td>40.00</td>\n",
       "      <td>2023-08-28</td>\n",
       "      <td>2018-05-01</td>\n",
       "      <td>157</td>\n",
       "    </tr>\n",
       "    <tr>\n",
       "      <th>Samsung</th>\n",
       "      <td>1</td>\n",
       "      <td>16</td>\n",
       "      <td>1950</td>\n",
       "      <td>7000</td>\n",
       "      <td>1750.00</td>\n",
       "      <td>60.00</td>\n",
       "      <td>2023-08-07</td>\n",
       "      <td>2017-03-01</td>\n",
       "      <td>206</td>\n",
       "    </tr>\n",
       "    <tr>\n",
       "      <th>Sony</th>\n",
       "      <td>2</td>\n",
       "      <td>12</td>\n",
       "      <td>2300</td>\n",
       "      <td>5000</td>\n",
       "      <td>2000.00</td>\n",
       "      <td>110.00</td>\n",
       "      <td>2023-05-11</td>\n",
       "      <td>2017-02-01</td>\n",
       "      <td>37</td>\n",
       "    </tr>\n",
       "    <tr>\n",
       "      <th>Vivo</th>\n",
       "      <td>2</td>\n",
       "      <td>16</td>\n",
       "      <td>4000</td>\n",
       "      <td>6000</td>\n",
       "      <td>1450.00</td>\n",
       "      <td>90.00</td>\n",
       "      <td>2023-08-31</td>\n",
       "      <td>2021-03-24</td>\n",
       "      <td>168</td>\n",
       "    </tr>\n",
       "    <tr>\n",
       "      <th>Xiaomi</th>\n",
       "      <td>1</td>\n",
       "      <td>24</td>\n",
       "      <td>3000</td>\n",
       "      <td>6000</td>\n",
       "      <td>1500.00</td>\n",
       "      <td>71.37</td>\n",
       "      <td>2023-08-15</td>\n",
       "      <td>2017-01-01</td>\n",
       "      <td>264</td>\n",
       "    </tr>\n",
       "  </tbody>\n",
       "</table>\n",
       "</div>"
      ],
      "text/plain": [
       "        ram(GB)     battery       price(USD)         announcement_date  \\\n",
       "            min max     min   max        max     min               max   \n",
       "brand                                                                    \n",
       "Apple         2   6    1821  4352    1580.09  189.50        2022-09-07   \n",
       "Google        4  12    2700  5003    1750.00  238.00        2023-05-10   \n",
       "Honor         2  16    3000  7250    1500.00   90.00        2023-07-28   \n",
       "Huawei        1  12    2200  7000    2300.00   90.00        2023-05-23   \n",
       "LG            1   8    2410  5000    1100.00   70.00        2021-02-22   \n",
       "Lenovo        2  18    3000  7000     880.00   90.00        2023-07-22   \n",
       "OnePlus       4  24    3300  5000    1030.00  119.00        2023-08-16   \n",
       "Oppo          2  16    2900  5000    1350.00  100.00        2023-07-26   \n",
       "Realme        2  24    3410  6000     839.95   40.00        2023-08-28   \n",
       "Samsung       1  16    1950  7000    1750.00   60.00        2023-08-07   \n",
       "Sony          2  12    2300  5000    2000.00  110.00        2023-05-11   \n",
       "Vivo          2  16    4000  6000    1450.00   90.00        2023-08-31   \n",
       "Xiaomi        1  24    3000  6000    1500.00   71.37        2023-08-15   \n",
       "\n",
       "                    phone_name  \n",
       "                min      count  \n",
       "brand                           \n",
       "Apple    2017-09-12         22  \n",
       "Google   2017-10-04         19  \n",
       "Honor    2017-12-01        124  \n",
       "Huawei   2016-09-01        137  \n",
       "LG       2016-12-01         75  \n",
       "Lenovo   2017-08-01         43  \n",
       "OnePlus  2018-05-16         47  \n",
       "Oppo     2017-03-01        213  \n",
       "Realme   2018-05-01        157  \n",
       "Samsung  2017-03-01        206  \n",
       "Sony     2017-02-01         37  \n",
       "Vivo     2021-03-24        168  \n",
       "Xiaomi   2017-01-01        264  "
      ]
     },
     "execution_count": 9,
     "metadata": {},
     "output_type": "execute_result"
    }
   ],
   "source": [
    "data1.agg({'ram(GB)':['min','max'],'battery':['min','max'],'price(USD)':['max','min'],'announcement_date':['max','min'],'phone_name':'count'})"
   ]
  },
  {
   "cell_type": "markdown",
   "id": "21efeff8",
   "metadata": {},
   "source": [
    "# 2. What is the average ram size of all collected data?"
   ]
  },
  {
   "cell_type": "code",
   "execution_count": 10,
   "id": "4b51c312",
   "metadata": {},
   "outputs": [
    {
     "data": {
      "text/plain": [
       "6.6838624338624335"
      ]
     },
     "execution_count": 10,
     "metadata": {},
     "output_type": "execute_result"
    }
   ],
   "source": [
    "data[\"ram(GB)\"].mean()"
   ]
  },
  {
   "cell_type": "markdown",
   "id": "cb6fd656",
   "metadata": {},
   "source": [
    "# 3. Give the count of phones supporting?"
   ]
  },
  {
   "cell_type": "code",
   "execution_count": 12,
   "id": "5add69c4",
   "metadata": {},
   "outputs": [
    {
     "data": {
      "text/plain": [
       "video_8K\n",
       "False       1426\n",
       "True          86\n",
       "dtype: int64"
      ]
     },
     "execution_count": 12,
     "metadata": {},
     "output_type": "execute_result"
    }
   ],
   "source": [
    "data[[\"video_8K\"]].value_counts()"
   ]
  },
  {
   "cell_type": "code",
   "execution_count": 13,
   "id": "ff5d5a3f",
   "metadata": {},
   "outputs": [
    {
     "data": {
      "text/plain": [
       "video_4K\n",
       "True        801\n",
       "False       711\n",
       "dtype: int64"
      ]
     },
     "execution_count": 13,
     "metadata": {},
     "output_type": "execute_result"
    }
   ],
   "source": [
    "data[[\"video_4K\"]].value_counts()"
   ]
  },
  {
   "cell_type": "code",
   "execution_count": 14,
   "id": "0be9f296",
   "metadata": {},
   "outputs": [
    {
     "data": {
      "text/plain": [
       "video_1080p\n",
       "True           1503\n",
       "False             9\n",
       "dtype: int64"
      ]
     },
     "execution_count": 14,
     "metadata": {},
     "output_type": "execute_result"
    }
   ],
   "source": [
    "data[[\"video_1080p\"]].value_counts()"
   ]
  },
  {
   "cell_type": "markdown",
   "id": "2106d07d",
   "metadata": {},
   "source": [
    "# 4. Print a pivot table for finding the average weights, based on brand and battery type?"
   ]
  },
  {
   "cell_type": "code",
   "execution_count": 15,
   "id": "59ec3489",
   "metadata": {},
   "outputs": [
    {
     "data": {
      "text/html": [
       "<div>\n",
       "<style scoped>\n",
       "    .dataframe tbody tr th:only-of-type {\n",
       "        vertical-align: middle;\n",
       "    }\n",
       "\n",
       "    .dataframe tbody tr th {\n",
       "        vertical-align: top;\n",
       "    }\n",
       "\n",
       "    .dataframe thead tr th {\n",
       "        text-align: left;\n",
       "    }\n",
       "\n",
       "    .dataframe thead tr:last-of-type th {\n",
       "        text-align: right;\n",
       "    }\n",
       "</style>\n",
       "<table border=\"1\" class=\"dataframe\">\n",
       "  <thead>\n",
       "    <tr>\n",
       "      <th></th>\n",
       "      <th colspan=\"10\" halign=\"left\">max</th>\n",
       "      <th>...</th>\n",
       "      <th colspan=\"10\" halign=\"left\">min</th>\n",
       "    </tr>\n",
       "    <tr>\n",
       "      <th>battery</th>\n",
       "      <th>1821</th>\n",
       "      <th>1950</th>\n",
       "      <th>2000</th>\n",
       "      <th>2018</th>\n",
       "      <th>2050</th>\n",
       "      <th>2200</th>\n",
       "      <th>2227</th>\n",
       "      <th>2280</th>\n",
       "      <th>2300</th>\n",
       "      <th>2410</th>\n",
       "      <th>...</th>\n",
       "      <th>5260</th>\n",
       "      <th>5300</th>\n",
       "      <th>5450</th>\n",
       "      <th>5500</th>\n",
       "      <th>5600</th>\n",
       "      <th>5800</th>\n",
       "      <th>6000</th>\n",
       "      <th>6550</th>\n",
       "      <th>7000</th>\n",
       "      <th>7250</th>\n",
       "    </tr>\n",
       "    <tr>\n",
       "      <th>brand</th>\n",
       "      <th></th>\n",
       "      <th></th>\n",
       "      <th></th>\n",
       "      <th></th>\n",
       "      <th></th>\n",
       "      <th></th>\n",
       "      <th></th>\n",
       "      <th></th>\n",
       "      <th></th>\n",
       "      <th></th>\n",
       "      <th></th>\n",
       "      <th></th>\n",
       "      <th></th>\n",
       "      <th></th>\n",
       "      <th></th>\n",
       "      <th></th>\n",
       "      <th></th>\n",
       "      <th></th>\n",
       "      <th></th>\n",
       "      <th></th>\n",
       "      <th></th>\n",
       "    </tr>\n",
       "  </thead>\n",
       "  <tbody>\n",
       "    <tr>\n",
       "      <th>Apple</th>\n",
       "      <td>148.0</td>\n",
       "      <td>NaN</td>\n",
       "      <td>NaN</td>\n",
       "      <td>144.0</td>\n",
       "      <td>NaN</td>\n",
       "      <td>NaN</td>\n",
       "      <td>135.0</td>\n",
       "      <td>NaN</td>\n",
       "      <td>NaN</td>\n",
       "      <td>NaN</td>\n",
       "      <td>...</td>\n",
       "      <td>NaN</td>\n",
       "      <td>NaN</td>\n",
       "      <td>NaN</td>\n",
       "      <td>NaN</td>\n",
       "      <td>NaN</td>\n",
       "      <td>NaN</td>\n",
       "      <td>NaN</td>\n",
       "      <td>NaN</td>\n",
       "      <td>NaN</td>\n",
       "      <td>NaN</td>\n",
       "    </tr>\n",
       "    <tr>\n",
       "      <th>Google</th>\n",
       "      <td>NaN</td>\n",
       "      <td>NaN</td>\n",
       "      <td>NaN</td>\n",
       "      <td>NaN</td>\n",
       "      <td>NaN</td>\n",
       "      <td>NaN</td>\n",
       "      <td>NaN</td>\n",
       "      <td>NaN</td>\n",
       "      <td>NaN</td>\n",
       "      <td>NaN</td>\n",
       "      <td>...</td>\n",
       "      <td>NaN</td>\n",
       "      <td>NaN</td>\n",
       "      <td>NaN</td>\n",
       "      <td>NaN</td>\n",
       "      <td>NaN</td>\n",
       "      <td>NaN</td>\n",
       "      <td>NaN</td>\n",
       "      <td>NaN</td>\n",
       "      <td>NaN</td>\n",
       "      <td>NaN</td>\n",
       "    </tr>\n",
       "    <tr>\n",
       "      <th>Honor</th>\n",
       "      <td>NaN</td>\n",
       "      <td>NaN</td>\n",
       "      <td>NaN</td>\n",
       "      <td>NaN</td>\n",
       "      <td>NaN</td>\n",
       "      <td>NaN</td>\n",
       "      <td>NaN</td>\n",
       "      <td>NaN</td>\n",
       "      <td>NaN</td>\n",
       "      <td>NaN</td>\n",
       "      <td>...</td>\n",
       "      <td>NaN</td>\n",
       "      <td>NaN</td>\n",
       "      <td>217.0</td>\n",
       "      <td>NaN</td>\n",
       "      <td>NaN</td>\n",
       "      <td>185.0</td>\n",
       "      <td>196.0</td>\n",
       "      <td>NaN</td>\n",
       "      <td>NaN</td>\n",
       "      <td>480.0</td>\n",
       "    </tr>\n",
       "    <tr>\n",
       "      <th>Huawei</th>\n",
       "      <td>NaN</td>\n",
       "      <td>NaN</td>\n",
       "      <td>NaN</td>\n",
       "      <td>NaN</td>\n",
       "      <td>NaN</td>\n",
       "      <td>175.0</td>\n",
       "      <td>NaN</td>\n",
       "      <td>175.0</td>\n",
       "      <td>NaN</td>\n",
       "      <td>NaN</td>\n",
       "      <td>...</td>\n",
       "      <td>NaN</td>\n",
       "      <td>NaN</td>\n",
       "      <td>NaN</td>\n",
       "      <td>NaN</td>\n",
       "      <td>NaN</td>\n",
       "      <td>NaN</td>\n",
       "      <td>199.0</td>\n",
       "      <td>NaN</td>\n",
       "      <td>214.0</td>\n",
       "      <td>NaN</td>\n",
       "    </tr>\n",
       "    <tr>\n",
       "      <th>LG</th>\n",
       "      <td>NaN</td>\n",
       "      <td>NaN</td>\n",
       "      <td>NaN</td>\n",
       "      <td>NaN</td>\n",
       "      <td>NaN</td>\n",
       "      <td>NaN</td>\n",
       "      <td>NaN</td>\n",
       "      <td>NaN</td>\n",
       "      <td>NaN</td>\n",
       "      <td>139.0</td>\n",
       "      <td>...</td>\n",
       "      <td>NaN</td>\n",
       "      <td>NaN</td>\n",
       "      <td>NaN</td>\n",
       "      <td>NaN</td>\n",
       "      <td>NaN</td>\n",
       "      <td>NaN</td>\n",
       "      <td>NaN</td>\n",
       "      <td>NaN</td>\n",
       "      <td>NaN</td>\n",
       "      <td>NaN</td>\n",
       "    </tr>\n",
       "    <tr>\n",
       "      <th>Lenovo</th>\n",
       "      <td>NaN</td>\n",
       "      <td>NaN</td>\n",
       "      <td>NaN</td>\n",
       "      <td>NaN</td>\n",
       "      <td>NaN</td>\n",
       "      <td>NaN</td>\n",
       "      <td>NaN</td>\n",
       "      <td>NaN</td>\n",
       "      <td>NaN</td>\n",
       "      <td>NaN</td>\n",
       "      <td>...</td>\n",
       "      <td>NaN</td>\n",
       "      <td>NaN</td>\n",
       "      <td>NaN</td>\n",
       "      <td>259.0</td>\n",
       "      <td>252.0</td>\n",
       "      <td>NaN</td>\n",
       "      <td>221.0</td>\n",
       "      <td>350.0</td>\n",
       "      <td>500.0</td>\n",
       "      <td>NaN</td>\n",
       "    </tr>\n",
       "    <tr>\n",
       "      <th>OnePlus</th>\n",
       "      <td>NaN</td>\n",
       "      <td>NaN</td>\n",
       "      <td>NaN</td>\n",
       "      <td>NaN</td>\n",
       "      <td>NaN</td>\n",
       "      <td>NaN</td>\n",
       "      <td>NaN</td>\n",
       "      <td>NaN</td>\n",
       "      <td>NaN</td>\n",
       "      <td>NaN</td>\n",
       "      <td>...</td>\n",
       "      <td>NaN</td>\n",
       "      <td>NaN</td>\n",
       "      <td>NaN</td>\n",
       "      <td>NaN</td>\n",
       "      <td>NaN</td>\n",
       "      <td>NaN</td>\n",
       "      <td>NaN</td>\n",
       "      <td>NaN</td>\n",
       "      <td>NaN</td>\n",
       "      <td>NaN</td>\n",
       "    </tr>\n",
       "    <tr>\n",
       "      <th>Oppo</th>\n",
       "      <td>NaN</td>\n",
       "      <td>NaN</td>\n",
       "      <td>NaN</td>\n",
       "      <td>NaN</td>\n",
       "      <td>NaN</td>\n",
       "      <td>NaN</td>\n",
       "      <td>NaN</td>\n",
       "      <td>NaN</td>\n",
       "      <td>NaN</td>\n",
       "      <td>NaN</td>\n",
       "      <td>...</td>\n",
       "      <td>NaN</td>\n",
       "      <td>NaN</td>\n",
       "      <td>NaN</td>\n",
       "      <td>NaN</td>\n",
       "      <td>NaN</td>\n",
       "      <td>NaN</td>\n",
       "      <td>NaN</td>\n",
       "      <td>NaN</td>\n",
       "      <td>NaN</td>\n",
       "      <td>NaN</td>\n",
       "    </tr>\n",
       "    <tr>\n",
       "      <th>Realme</th>\n",
       "      <td>NaN</td>\n",
       "      <td>NaN</td>\n",
       "      <td>NaN</td>\n",
       "      <td>NaN</td>\n",
       "      <td>NaN</td>\n",
       "      <td>NaN</td>\n",
       "      <td>NaN</td>\n",
       "      <td>NaN</td>\n",
       "      <td>NaN</td>\n",
       "      <td>NaN</td>\n",
       "      <td>...</td>\n",
       "      <td>NaN</td>\n",
       "      <td>NaN</td>\n",
       "      <td>NaN</td>\n",
       "      <td>193.0</td>\n",
       "      <td>NaN</td>\n",
       "      <td>NaN</td>\n",
       "      <td>205.0</td>\n",
       "      <td>NaN</td>\n",
       "      <td>NaN</td>\n",
       "      <td>NaN</td>\n",
       "    </tr>\n",
       "    <tr>\n",
       "      <th>Samsung</th>\n",
       "      <td>NaN</td>\n",
       "      <td>165.0</td>\n",
       "      <td>130.0</td>\n",
       "      <td>NaN</td>\n",
       "      <td>143.0</td>\n",
       "      <td>NaN</td>\n",
       "      <td>NaN</td>\n",
       "      <td>NaN</td>\n",
       "      <td>NaN</td>\n",
       "      <td>NaN</td>\n",
       "      <td>...</td>\n",
       "      <td>NaN</td>\n",
       "      <td>NaN</td>\n",
       "      <td>NaN</td>\n",
       "      <td>NaN</td>\n",
       "      <td>NaN</td>\n",
       "      <td>NaN</td>\n",
       "      <td>180.0</td>\n",
       "      <td>NaN</td>\n",
       "      <td>213.0</td>\n",
       "      <td>NaN</td>\n",
       "    </tr>\n",
       "    <tr>\n",
       "      <th>Sony</th>\n",
       "      <td>NaN</td>\n",
       "      <td>NaN</td>\n",
       "      <td>NaN</td>\n",
       "      <td>NaN</td>\n",
       "      <td>NaN</td>\n",
       "      <td>NaN</td>\n",
       "      <td>NaN</td>\n",
       "      <td>NaN</td>\n",
       "      <td>143.0</td>\n",
       "      <td>NaN</td>\n",
       "      <td>...</td>\n",
       "      <td>NaN</td>\n",
       "      <td>NaN</td>\n",
       "      <td>NaN</td>\n",
       "      <td>NaN</td>\n",
       "      <td>NaN</td>\n",
       "      <td>NaN</td>\n",
       "      <td>NaN</td>\n",
       "      <td>NaN</td>\n",
       "      <td>NaN</td>\n",
       "      <td>NaN</td>\n",
       "    </tr>\n",
       "    <tr>\n",
       "      <th>Vivo</th>\n",
       "      <td>NaN</td>\n",
       "      <td>NaN</td>\n",
       "      <td>NaN</td>\n",
       "      <td>NaN</td>\n",
       "      <td>NaN</td>\n",
       "      <td>NaN</td>\n",
       "      <td>NaN</td>\n",
       "      <td>NaN</td>\n",
       "      <td>NaN</td>\n",
       "      <td>NaN</td>\n",
       "      <td>...</td>\n",
       "      <td>NaN</td>\n",
       "      <td>NaN</td>\n",
       "      <td>NaN</td>\n",
       "      <td>NaN</td>\n",
       "      <td>NaN</td>\n",
       "      <td>NaN</td>\n",
       "      <td>199.0</td>\n",
       "      <td>NaN</td>\n",
       "      <td>NaN</td>\n",
       "      <td>NaN</td>\n",
       "    </tr>\n",
       "    <tr>\n",
       "      <th>Xiaomi</th>\n",
       "      <td>NaN</td>\n",
       "      <td>NaN</td>\n",
       "      <td>NaN</td>\n",
       "      <td>NaN</td>\n",
       "      <td>NaN</td>\n",
       "      <td>NaN</td>\n",
       "      <td>NaN</td>\n",
       "      <td>NaN</td>\n",
       "      <td>NaN</td>\n",
       "      <td>NaN</td>\n",
       "      <td>...</td>\n",
       "      <td>204.0</td>\n",
       "      <td>211.0</td>\n",
       "      <td>NaN</td>\n",
       "      <td>199.0</td>\n",
       "      <td>NaN</td>\n",
       "      <td>NaN</td>\n",
       "      <td>192.0</td>\n",
       "      <td>NaN</td>\n",
       "      <td>NaN</td>\n",
       "      <td>NaN</td>\n",
       "    </tr>\n",
       "  </tbody>\n",
       "</table>\n",
       "<p>13 rows × 272 columns</p>\n",
       "</div>"
      ],
      "text/plain": [
       "           max                                                                 \\\n",
       "battery   1821   1950   2000   2018   2050   2200   2227   2280   2300   2410   \n",
       "brand                                                                           \n",
       "Apple    148.0    NaN    NaN  144.0    NaN    NaN  135.0    NaN    NaN    NaN   \n",
       "Google     NaN    NaN    NaN    NaN    NaN    NaN    NaN    NaN    NaN    NaN   \n",
       "Honor      NaN    NaN    NaN    NaN    NaN    NaN    NaN    NaN    NaN    NaN   \n",
       "Huawei     NaN    NaN    NaN    NaN    NaN  175.0    NaN  175.0    NaN    NaN   \n",
       "LG         NaN    NaN    NaN    NaN    NaN    NaN    NaN    NaN    NaN  139.0   \n",
       "Lenovo     NaN    NaN    NaN    NaN    NaN    NaN    NaN    NaN    NaN    NaN   \n",
       "OnePlus    NaN    NaN    NaN    NaN    NaN    NaN    NaN    NaN    NaN    NaN   \n",
       "Oppo       NaN    NaN    NaN    NaN    NaN    NaN    NaN    NaN    NaN    NaN   \n",
       "Realme     NaN    NaN    NaN    NaN    NaN    NaN    NaN    NaN    NaN    NaN   \n",
       "Samsung    NaN  165.0  130.0    NaN  143.0    NaN    NaN    NaN    NaN    NaN   \n",
       "Sony       NaN    NaN    NaN    NaN    NaN    NaN    NaN    NaN  143.0    NaN   \n",
       "Vivo       NaN    NaN    NaN    NaN    NaN    NaN    NaN    NaN    NaN    NaN   \n",
       "Xiaomi     NaN    NaN    NaN    NaN    NaN    NaN    NaN    NaN    NaN    NaN   \n",
       "\n",
       "         ...    min                                                          \\\n",
       "battery  ...   5260   5300   5450   5500   5600   5800   6000   6550   7000   \n",
       "brand    ...                                                                  \n",
       "Apple    ...    NaN    NaN    NaN    NaN    NaN    NaN    NaN    NaN    NaN   \n",
       "Google   ...    NaN    NaN    NaN    NaN    NaN    NaN    NaN    NaN    NaN   \n",
       "Honor    ...    NaN    NaN  217.0    NaN    NaN  185.0  196.0    NaN    NaN   \n",
       "Huawei   ...    NaN    NaN    NaN    NaN    NaN    NaN  199.0    NaN  214.0   \n",
       "LG       ...    NaN    NaN    NaN    NaN    NaN    NaN    NaN    NaN    NaN   \n",
       "Lenovo   ...    NaN    NaN    NaN  259.0  252.0    NaN  221.0  350.0  500.0   \n",
       "OnePlus  ...    NaN    NaN    NaN    NaN    NaN    NaN    NaN    NaN    NaN   \n",
       "Oppo     ...    NaN    NaN    NaN    NaN    NaN    NaN    NaN    NaN    NaN   \n",
       "Realme   ...    NaN    NaN    NaN  193.0    NaN    NaN  205.0    NaN    NaN   \n",
       "Samsung  ...    NaN    NaN    NaN    NaN    NaN    NaN  180.0    NaN  213.0   \n",
       "Sony     ...    NaN    NaN    NaN    NaN    NaN    NaN    NaN    NaN    NaN   \n",
       "Vivo     ...    NaN    NaN    NaN    NaN    NaN    NaN  199.0    NaN    NaN   \n",
       "Xiaomi   ...  204.0  211.0    NaN  199.0    NaN    NaN  192.0    NaN    NaN   \n",
       "\n",
       "                \n",
       "battery   7250  \n",
       "brand           \n",
       "Apple      NaN  \n",
       "Google     NaN  \n",
       "Honor    480.0  \n",
       "Huawei     NaN  \n",
       "LG         NaN  \n",
       "Lenovo     NaN  \n",
       "OnePlus    NaN  \n",
       "Oppo       NaN  \n",
       "Realme     NaN  \n",
       "Samsung    NaN  \n",
       "Sony       NaN  \n",
       "Vivo       NaN  \n",
       "Xiaomi     NaN  \n",
       "\n",
       "[13 rows x 272 columns]"
      ]
     },
     "execution_count": 15,
     "metadata": {},
     "output_type": "execute_result"
    }
   ],
   "source": [
    "data.pivot_table(index=\"brand\",columns=\"battery\",values=\"weight(g)\",aggfunc=[\"max\",\"min\"],dropna=True)"
   ]
  },
  {
   "cell_type": "code",
   "execution_count": 18,
   "id": "ade17d78",
   "metadata": {},
   "outputs": [],
   "source": [
    "dt=data.loc[data['os']=='Android 7.0']"
   ]
  },
  {
   "cell_type": "code",
   "execution_count": 19,
   "id": "a35ce5b1",
   "metadata": {},
   "outputs": [
    {
     "data": {
      "text/plain": [
       "33"
      ]
     },
     "execution_count": 19,
     "metadata": {},
     "output_type": "execute_result"
    }
   ],
   "source": [
    "dt['phone_name'].count()"
   ]
  },
  {
   "cell_type": "markdown",
   "id": "08bb5e3d",
   "metadata": {},
   "source": [
    "# 5. What is the maximum battery capacity provided by huawei company ?"
   ]
  },
  {
   "cell_type": "code",
   "execution_count": 20,
   "id": "d345963b",
   "metadata": {},
   "outputs": [
    {
     "data": {
      "text/plain": [
       "7000"
      ]
     },
     "execution_count": 20,
     "metadata": {},
     "output_type": "execute_result"
    }
   ],
   "source": [
    "data1[\"battery\"].max().loc[\"Huawei\"]"
   ]
  },
  {
   "cell_type": "markdown",
   "id": "e4345c9d",
   "metadata": {},
   "source": [
    "# 6.which phone is having the maximum and minimum battery capacity?"
   ]
  },
  {
   "cell_type": "code",
   "execution_count": 21,
   "id": "b9d6d564",
   "metadata": {},
   "outputs": [],
   "source": [
    "filt=(data[\"battery\"]==data[\"battery\"].max())"
   ]
  },
  {
   "cell_type": "code",
   "execution_count": 22,
   "id": "6b339427",
   "metadata": {},
   "outputs": [
    {
     "data": {
      "text/plain": [
       "573    V6\n",
       "Name: phone_name, dtype: object"
      ]
     },
     "execution_count": 22,
     "metadata": {},
     "output_type": "execute_result"
    }
   ],
   "source": [
    "data.loc[filt][\"phone_name\"]"
   ]
  },
  {
   "cell_type": "code",
   "execution_count": 23,
   "id": "c7126d68",
   "metadata": {},
   "outputs": [],
   "source": [
    "filt=(data[\"battery\"]==data[\"battery\"].min())"
   ]
  },
  {
   "cell_type": "code",
   "execution_count": 24,
   "id": "c20eb38f",
   "metadata": {},
   "outputs": [
    {
     "data": {
      "text/plain": [
       "62             iPhone 8\n",
       "536    iPhone SE (2020)\n",
       "Name: phone_name, dtype: object"
      ]
     },
     "execution_count": 24,
     "metadata": {},
     "output_type": "execute_result"
    }
   ],
   "source": [
    "data.loc[filt][\"phone_name\"]"
   ]
  },
  {
   "cell_type": "markdown",
   "id": "5c7cc0c8",
   "metadata": {},
   "source": [
    "# 7. Which phone brand is providing the highest and lowest ram?"
   ]
  },
  {
   "cell_type": "code",
   "execution_count": 26,
   "id": "b55aaef5",
   "metadata": {},
   "outputs": [],
   "source": [
    "filt=(data[\"ram(GB)\"]==data[\"ram(GB)\"].max())"
   ]
  },
  {
   "cell_type": "code",
   "execution_count": 27,
   "id": "a814f399",
   "metadata": {},
   "outputs": [
    {
     "data": {
      "text/plain": [
       "1505     Xiaomi\n",
       "1506    OnePlus\n",
       "1510     Realme\n",
       "Name: brand, dtype: object"
      ]
     },
     "execution_count": 27,
     "metadata": {},
     "output_type": "execute_result"
    }
   ],
   "source": [
    "data.loc[filt][\"brand\"]"
   ]
  },
  {
   "cell_type": "code",
   "execution_count": 29,
   "id": "19f6b745",
   "metadata": {},
   "outputs": [],
   "source": [
    "filt=(data[\"ram(GB)\"]==data[\"ram(GB)\"].min())"
   ]
  },
  {
   "cell_type": "code",
   "execution_count": 30,
   "id": "87919594",
   "metadata": {},
   "outputs": [
    {
     "data": {
      "text/plain": [
       "27      Huawei\n",
       "28     Samsung\n",
       "69     Samsung\n",
       "133     Huawei\n",
       "182    Samsung\n",
       "230    Samsung\n",
       "236     Huawei\n",
       "244     Xiaomi\n",
       "304    Samsung\n",
       "363         LG\n",
       "550    Samsung\n",
       "Name: brand, dtype: object"
      ]
     },
     "execution_count": 30,
     "metadata": {},
     "output_type": "execute_result"
    }
   ],
   "source": [
    "data.loc[filt][\"brand\"]"
   ]
  },
  {
   "cell_type": "markdown",
   "id": "d61f327a",
   "metadata": {},
   "source": [
    "# 8. How many phones has andriod 7.0 as there operating system?"
   ]
  },
  {
   "cell_type": "code",
   "execution_count": 33,
   "id": "4e99876b",
   "metadata": {},
   "outputs": [],
   "source": [
    "dt=data.loc[data[\"os\"]==\"Android 7.0\"]"
   ]
  },
  {
   "cell_type": "code",
   "execution_count": 34,
   "id": "61354054",
   "metadata": {},
   "outputs": [
    {
     "data": {
      "text/plain": [
       "33"
      ]
     },
     "execution_count": 34,
     "metadata": {},
     "output_type": "execute_result"
    }
   ],
   "source": [
    "dt[\"phone_name\"].count()"
   ]
  },
  {
   "cell_type": "markdown",
   "id": "060d27ca",
   "metadata": {},
   "source": [
    "# 9. Which phone is the oldest?"
   ]
  },
  {
   "cell_type": "code",
   "execution_count": 35,
   "id": "74fbec96",
   "metadata": {},
   "outputs": [],
   "source": [
    "dt=data.loc[data[\"announcement_date\"]==dt[\"announcement_date\"].min()]"
   ]
  },
  {
   "cell_type": "code",
   "execution_count": 36,
   "id": "c861ffff",
   "metadata": {},
   "outputs": [
    {
     "data": {
      "text/plain": [
       "1    K20 plus\n",
       "Name: phone_name, dtype: object"
      ]
     },
     "execution_count": 36,
     "metadata": {},
     "output_type": "execute_result"
    }
   ],
   "source": [
    "dt[\"phone_name\"]"
   ]
  },
  {
   "cell_type": "markdown",
   "id": "e962750c",
   "metadata": {},
   "source": [
    "# 10. Which brand produced maximum number of phone in the given data?"
   ]
  },
  {
   "cell_type": "code",
   "execution_count": 37,
   "id": "8e8a8d7a",
   "metadata": {},
   "outputs": [
    {
     "data": {
      "text/plain": [
       "brand\n",
       "Apple       22\n",
       "Google      19\n",
       "Honor      124\n",
       "Huawei     137\n",
       "LG          75\n",
       "Lenovo      43\n",
       "OnePlus     47\n",
       "Oppo       213\n",
       "Realme     157\n",
       "Samsung    206\n",
       "Sony        37\n",
       "Vivo       168\n",
       "Xiaomi     264\n",
       "Name: phone_name, dtype: int64"
      ]
     },
     "execution_count": 37,
     "metadata": {},
     "output_type": "execute_result"
    }
   ],
   "source": [
    "data1[\"phone_name\"].count()"
   ]
  },
  {
   "cell_type": "markdown",
   "id": "f04ce3b9",
   "metadata": {},
   "source": [
    "# 10. How many phones supports Li-Po and Li-ion Battery?"
   ]
  },
  {
   "cell_type": "code",
   "execution_count": 38,
   "id": "44ef6a11",
   "metadata": {},
   "outputs": [],
   "source": [
    "filt=(data[\"battery_type\"]==\"Li-Po\")"
   ]
  },
  {
   "cell_type": "code",
   "execution_count": 39,
   "id": "d70ddebb",
   "metadata": {},
   "outputs": [
    {
     "data": {
      "text/plain": [
       "1242"
      ]
     },
     "execution_count": 39,
     "metadata": {},
     "output_type": "execute_result"
    }
   ],
   "source": [
    "data.loc[filt][\"phone_name\"].count()"
   ]
  },
  {
   "cell_type": "code",
   "execution_count": 40,
   "id": "982da5ad",
   "metadata": {},
   "outputs": [],
   "source": [
    "filt=(data[\"battery_type\"]==\"Li-Ion\")"
   ]
  },
  {
   "cell_type": "code",
   "execution_count": 41,
   "id": "e47c9aeb",
   "metadata": {},
   "outputs": [
    {
     "data": {
      "text/plain": [
       "270"
      ]
     },
     "execution_count": 41,
     "metadata": {},
     "output_type": "execute_result"
    }
   ],
   "source": [
    "data.loc[filt][\"phone_name\"].count()"
   ]
  },
  {
   "cell_type": "markdown",
   "id": "1a0fddb0",
   "metadata": {},
   "source": [
    "# 11. How many sony phones supports 720*1280 resolution?"
   ]
  },
  {
   "cell_type": "code",
   "execution_count": 52,
   "id": "8b3e9c09",
   "metadata": {},
   "outputs": [],
   "source": [
    "filt=(data['brand']=='Sony')&(data['resolution']=='720x1280')"
   ]
  },
  {
   "cell_type": "code",
   "execution_count": 53,
   "id": "4d0fad2f",
   "metadata": {},
   "outputs": [
    {
     "data": {
      "text/plain": [
       "5"
      ]
     },
     "execution_count": 53,
     "metadata": {},
     "output_type": "execute_result"
    }
   ],
   "source": [
    "data.loc[filt][\"phone_name\"].count()"
   ]
  },
  {
   "cell_type": "code",
   "execution_count": null,
   "id": "5b2fd30a",
   "metadata": {},
   "outputs": [],
   "source": []
  }
 ],
 "metadata": {
  "kernelspec": {
   "display_name": "Python 3 (ipykernel)",
   "language": "python",
   "name": "python3"
  },
  "language_info": {
   "codemirror_mode": {
    "name": "ipython",
    "version": 3
   },
   "file_extension": ".py",
   "mimetype": "text/x-python",
   "name": "python",
   "nbconvert_exporter": "python",
   "pygments_lexer": "ipython3",
   "version": "3.11.3"
  }
 },
 "nbformat": 4,
 "nbformat_minor": 5
}
