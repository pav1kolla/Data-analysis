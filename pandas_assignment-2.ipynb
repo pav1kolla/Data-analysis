{
 "cells": [
  {
   "cell_type": "code",
   "execution_count": 26,
   "id": "ddbff6c1",
   "metadata": {},
   "outputs": [],
   "source": [
    "import pandas as pd\n",
    "import numpy as np"
   ]
  },
  {
   "cell_type": "code",
   "execution_count": 27,
   "id": "0a93495d",
   "metadata": {},
   "outputs": [],
   "source": [
    "data=pd.read_csv(r\"C:\\Users\\pavan\\Downloads\\imdb_anime.csv\")"
   ]
  },
  {
   "cell_type": "code",
   "execution_count": 28,
   "id": "c04c5e66",
   "metadata": {},
   "outputs": [],
   "source": [
    "dt=data.copy()"
   ]
  },
  {
   "cell_type": "code",
   "execution_count": 29,
   "id": "dc71f00b",
   "metadata": {},
   "outputs": [
    {
     "data": {
      "text/html": [
       "<div>\n",
       "<style scoped>\n",
       "    .dataframe tbody tr th:only-of-type {\n",
       "        vertical-align: middle;\n",
       "    }\n",
       "\n",
       "    .dataframe tbody tr th {\n",
       "        vertical-align: top;\n",
       "    }\n",
       "\n",
       "    .dataframe thead th {\n",
       "        text-align: right;\n",
       "    }\n",
       "</style>\n",
       "<table border=\"1\" class=\"dataframe\">\n",
       "  <thead>\n",
       "    <tr style=\"text-align: right;\">\n",
       "      <th></th>\n",
       "      <th>Title</th>\n",
       "      <th>Genre</th>\n",
       "      <th>User Rating</th>\n",
       "      <th>Number of Votes</th>\n",
       "      <th>Runtime</th>\n",
       "      <th>Year</th>\n",
       "      <th>Summary</th>\n",
       "      <th>Stars</th>\n",
       "      <th>Certificate</th>\n",
       "      <th>Metascore</th>\n",
       "      <th>Gross</th>\n",
       "      <th>Episode</th>\n",
       "      <th>Episode Title</th>\n",
       "    </tr>\n",
       "  </thead>\n",
       "  <tbody>\n",
       "    <tr>\n",
       "      <th>0</th>\n",
       "      <td>One Piece</td>\n",
       "      <td>Animation, Action, Adventure</td>\n",
       "      <td>8.9</td>\n",
       "      <td>187,689</td>\n",
       "      <td>24 min</td>\n",
       "      <td>(1999– )</td>\n",
       "      <td>Follows the adventures of Monkey D. Luffy and ...</td>\n",
       "      <td>Mayumi Tanaka,Laurent Vernin,Akemi Okamura,Ton...</td>\n",
       "      <td>TV-14</td>\n",
       "      <td>NaN</td>\n",
       "      <td>187689</td>\n",
       "      <td>0</td>\n",
       "      <td>NaN</td>\n",
       "    </tr>\n",
       "    <tr>\n",
       "      <th>1</th>\n",
       "      <td>Teenage Mutant Ninja Turtles: Mutant Mayhem</td>\n",
       "      <td>Animation, Action, Adventure</td>\n",
       "      <td>7.4</td>\n",
       "      <td>28,895</td>\n",
       "      <td>99 min</td>\n",
       "      <td>(2023)</td>\n",
       "      <td>The film follows the Turtle brothers as they w...</td>\n",
       "      <td>NaN</td>\n",
       "      <td>PG</td>\n",
       "      <td>74</td>\n",
       "      <td>28895</td>\n",
       "      <td>0</td>\n",
       "      <td>NaN</td>\n",
       "    </tr>\n",
       "    <tr>\n",
       "      <th>2</th>\n",
       "      <td>The Super Mario Bros. Movie</td>\n",
       "      <td>Animation, Adventure, Comedy</td>\n",
       "      <td>7.1</td>\n",
       "      <td>189,108</td>\n",
       "      <td>92 min</td>\n",
       "      <td>(2023)</td>\n",
       "      <td>A plumber named Mario travels through an under...</td>\n",
       "      <td>NaN</td>\n",
       "      <td>PG</td>\n",
       "      <td>46</td>\n",
       "      <td>189108</td>\n",
       "      <td>0</td>\n",
       "      <td>NaN</td>\n",
       "    </tr>\n",
       "    <tr>\n",
       "      <th>3</th>\n",
       "      <td>Attack on Titan</td>\n",
       "      <td>Animation, Action, Adventure</td>\n",
       "      <td>9.1</td>\n",
       "      <td>434,457</td>\n",
       "      <td>24 min</td>\n",
       "      <td>(2013–2023)</td>\n",
       "      <td>After his hometown is destroyed and his mother...</td>\n",
       "      <td>Josh Grelle,Bryce Papenbrook,Yûki Kaji,Yui Ish...</td>\n",
       "      <td>TV-MA</td>\n",
       "      <td>NaN</td>\n",
       "      <td>434457</td>\n",
       "      <td>0</td>\n",
       "      <td>NaN</td>\n",
       "    </tr>\n",
       "    <tr>\n",
       "      <th>4</th>\n",
       "      <td>Jujutsu Kaisen</td>\n",
       "      <td>Animation, Action, Adventure</td>\n",
       "      <td>8.5</td>\n",
       "      <td>82,909</td>\n",
       "      <td>24 min</td>\n",
       "      <td>(2020– )</td>\n",
       "      <td>A boy swallows a cursed talisman - the finger ...</td>\n",
       "      <td>Junya Enoki,Yûichi Nakamura,Adam McArthur,Yuma...</td>\n",
       "      <td>TV-MA</td>\n",
       "      <td>NaN</td>\n",
       "      <td>82909</td>\n",
       "      <td>0</td>\n",
       "      <td>NaN</td>\n",
       "    </tr>\n",
       "    <tr>\n",
       "      <th>...</th>\n",
       "      <td>...</td>\n",
       "      <td>...</td>\n",
       "      <td>...</td>\n",
       "      <td>...</td>\n",
       "      <td>...</td>\n",
       "      <td>...</td>\n",
       "      <td>...</td>\n",
       "      <td>...</td>\n",
       "      <td>...</td>\n",
       "      <td>...</td>\n",
       "      <td>...</td>\n",
       "      <td>...</td>\n",
       "      <td>...</td>\n",
       "    </tr>\n",
       "    <tr>\n",
       "      <th>45712</th>\n",
       "      <td>Demon Slayer: Kimetsu no Yaiba</td>\n",
       "      <td>Animation, Action, Adventure</td>\n",
       "      <td>7.3</td>\n",
       "      <td>3,432</td>\n",
       "      <td>24 min</td>\n",
       "      <td>(2019– )</td>\n",
       "      <td>Tanjiro heads to his next location southeast; ...</td>\n",
       "      <td>NaN</td>\n",
       "      <td>TV-14</td>\n",
       "      <td>NaN</td>\n",
       "      <td>3432</td>\n",
       "      <td>1</td>\n",
       "      <td>Tsuzumi Mansion</td>\n",
       "    </tr>\n",
       "    <tr>\n",
       "      <th>45713</th>\n",
       "      <td>Demon Slayer: Kimetsu no Yaiba</td>\n",
       "      <td>Animation, Action, Adventure</td>\n",
       "      <td>7.9</td>\n",
       "      <td>3,309</td>\n",
       "      <td>24 min</td>\n",
       "      <td>(2019– )</td>\n",
       "      <td>Tanjiro gets separated from Zenitsu when he en...</td>\n",
       "      <td>NaN</td>\n",
       "      <td>TV-MA</td>\n",
       "      <td>NaN</td>\n",
       "      <td>3309</td>\n",
       "      <td>1</td>\n",
       "      <td>The Boar Bares Its Fangs, Zenitsu Sleeps</td>\n",
       "    </tr>\n",
       "    <tr>\n",
       "      <th>45714</th>\n",
       "      <td>One Piece</td>\n",
       "      <td>Animation, Action, Adventure</td>\n",
       "      <td>9.4</td>\n",
       "      <td>2,743</td>\n",
       "      <td>NaN</td>\n",
       "      <td>(1999– )</td>\n",
       "      <td>Carrot tells Sanji the news about Pedro. Germa...</td>\n",
       "      <td>Mayumi Tanaka,Tom Henry,Masako Katsuki,Mami Ko...</td>\n",
       "      <td>TV-14</td>\n",
       "      <td>NaN</td>\n",
       "      <td>2743</td>\n",
       "      <td>1</td>\n",
       "      <td>Time for Farewell! Pudding's One Last Request!</td>\n",
       "    </tr>\n",
       "    <tr>\n",
       "      <th>45715</th>\n",
       "      <td>Marmalade Boy</td>\n",
       "      <td>Animation, Comedy, Drama</td>\n",
       "      <td>NaN</td>\n",
       "      <td>NaN</td>\n",
       "      <td>24 min</td>\n",
       "      <td>(1994–2005)</td>\n",
       "      <td>NaN</td>\n",
       "      <td>Ogie Banks,Deborah Sale Butler,John DeMita,Ric...</td>\n",
       "      <td>Not Rated</td>\n",
       "      <td>NaN</td>\n",
       "      <td>NaN</td>\n",
       "      <td>1</td>\n",
       "      <td>Hijiri naru yoru (ivu nanoni hitori bocchi...)</td>\n",
       "    </tr>\n",
       "    <tr>\n",
       "      <th>45716</th>\n",
       "      <td>Cinderella Nine</td>\n",
       "      <td>Animation, Drama, Sport</td>\n",
       "      <td>6.0</td>\n",
       "      <td>6</td>\n",
       "      <td>24 min</td>\n",
       "      <td>(2019– )</td>\n",
       "      <td>On her very first day at Satogahama Municipal ...</td>\n",
       "      <td>NaN</td>\n",
       "      <td>NaN</td>\n",
       "      <td>NaN</td>\n",
       "      <td>6</td>\n",
       "      <td>1</td>\n",
       "      <td>Play Ball!</td>\n",
       "    </tr>\n",
       "  </tbody>\n",
       "</table>\n",
       "<p>45717 rows × 13 columns</p>\n",
       "</div>"
      ],
      "text/plain": [
       "                                             Title  \\\n",
       "0                                        One Piece   \n",
       "1      Teenage Mutant Ninja Turtles: Mutant Mayhem   \n",
       "2                      The Super Mario Bros. Movie   \n",
       "3                                  Attack on Titan   \n",
       "4                                   Jujutsu Kaisen   \n",
       "...                                            ...   \n",
       "45712               Demon Slayer: Kimetsu no Yaiba   \n",
       "45713               Demon Slayer: Kimetsu no Yaiba   \n",
       "45714                                    One Piece   \n",
       "45715                                Marmalade Boy   \n",
       "45716                              Cinderella Nine   \n",
       "\n",
       "                              Genre User Rating Number of Votes Runtime  \\\n",
       "0      Animation, Action, Adventure         8.9         187,689  24 min   \n",
       "1      Animation, Action, Adventure         7.4          28,895  99 min   \n",
       "2      Animation, Adventure, Comedy         7.1         189,108  92 min   \n",
       "3      Animation, Action, Adventure         9.1         434,457  24 min   \n",
       "4      Animation, Action, Adventure         8.5          82,909  24 min   \n",
       "...                             ...         ...             ...     ...   \n",
       "45712  Animation, Action, Adventure         7.3           3,432  24 min   \n",
       "45713  Animation, Action, Adventure         7.9           3,309  24 min   \n",
       "45714  Animation, Action, Adventure         9.4           2,743     NaN   \n",
       "45715      Animation, Comedy, Drama         NaN             NaN  24 min   \n",
       "45716       Animation, Drama, Sport         6.0               6  24 min   \n",
       "\n",
       "              Year                                            Summary  \\\n",
       "0         (1999– )  Follows the adventures of Monkey D. Luffy and ...   \n",
       "1           (2023)  The film follows the Turtle brothers as they w...   \n",
       "2           (2023)  A plumber named Mario travels through an under...   \n",
       "3      (2013–2023)  After his hometown is destroyed and his mother...   \n",
       "4         (2020– )  A boy swallows a cursed talisman - the finger ...   \n",
       "...            ...                                                ...   \n",
       "45712     (2019– )  Tanjiro heads to his next location southeast; ...   \n",
       "45713     (2019– )  Tanjiro gets separated from Zenitsu when he en...   \n",
       "45714     (1999– )  Carrot tells Sanji the news about Pedro. Germa...   \n",
       "45715  (1994–2005)                                                NaN   \n",
       "45716     (2019– )  On her very first day at Satogahama Municipal ...   \n",
       "\n",
       "                                                   Stars Certificate  \\\n",
       "0      Mayumi Tanaka,Laurent Vernin,Akemi Okamura,Ton...       TV-14   \n",
       "1                                                    NaN          PG   \n",
       "2                                                    NaN          PG   \n",
       "3      Josh Grelle,Bryce Papenbrook,Yûki Kaji,Yui Ish...       TV-MA   \n",
       "4      Junya Enoki,Yûichi Nakamura,Adam McArthur,Yuma...       TV-MA   \n",
       "...                                                  ...         ...   \n",
       "45712                                                NaN       TV-14   \n",
       "45713                                                NaN       TV-MA   \n",
       "45714  Mayumi Tanaka,Tom Henry,Masako Katsuki,Mami Ko...       TV-14   \n",
       "45715  Ogie Banks,Deborah Sale Butler,John DeMita,Ric...   Not Rated   \n",
       "45716                                                NaN         NaN   \n",
       "\n",
       "        Metascore   Gross Episode  \\\n",
       "0             NaN  187689       0   \n",
       "1      74           28895       0   \n",
       "2      46          189108       0   \n",
       "3             NaN  434457       0   \n",
       "4             NaN   82909       0   \n",
       "...           ...     ...     ...   \n",
       "45712         NaN    3432       1   \n",
       "45713         NaN    3309       1   \n",
       "45714         NaN    2743       1   \n",
       "45715         NaN     NaN       1   \n",
       "45716         NaN       6       1   \n",
       "\n",
       "                                        Episode Title  \n",
       "0                                                 NaN  \n",
       "1                                                 NaN  \n",
       "2                                                 NaN  \n",
       "3                                                 NaN  \n",
       "4                                                 NaN  \n",
       "...                                               ...  \n",
       "45712                                 Tsuzumi Mansion  \n",
       "45713        The Boar Bares Its Fangs, Zenitsu Sleeps  \n",
       "45714  Time for Farewell! Pudding's One Last Request!  \n",
       "45715  Hijiri naru yoru (ivu nanoni hitori bocchi...)  \n",
       "45716                                      Play Ball!  \n",
       "\n",
       "[45717 rows x 13 columns]"
      ]
     },
     "execution_count": 29,
     "metadata": {},
     "output_type": "execute_result"
    }
   ],
   "source": [
    "dt"
   ]
  },
  {
   "cell_type": "markdown",
   "id": "ad0238da",
   "metadata": {},
   "source": [
    "# 1. How many anime have the PG certification?"
   ]
  },
  {
   "cell_type": "code",
   "execution_count": 30,
   "id": "1188a7b8",
   "metadata": {},
   "outputs": [],
   "source": [
    "dt.replace({\"User Rating\":{\"User Rating\":np.nan},\"Gross\":{\"Gross\":np.nan}},inplace=True)"
   ]
  },
  {
   "cell_type": "code",
   "execution_count": 31,
   "id": "4e010e7e",
   "metadata": {},
   "outputs": [],
   "source": [
    "dt[\"User Rating\"]=dt[\"User Rating\"].astype(float)"
   ]
  },
  {
   "cell_type": "code",
   "execution_count": 32,
   "id": "a78963de",
   "metadata": {},
   "outputs": [],
   "source": [
    "cer=dt.loc[dt[\"Certificate\"]==\"PG\"]"
   ]
  },
  {
   "cell_type": "code",
   "execution_count": 33,
   "id": "2d8216c4",
   "metadata": {},
   "outputs": [
    {
     "data": {
      "text/plain": [
       "158"
      ]
     },
     "execution_count": 33,
     "metadata": {},
     "output_type": "execute_result"
    }
   ],
   "source": [
    "len(cer[\"Title\"].unique())"
   ]
  },
  {
   "cell_type": "markdown",
   "id": "6a48baba",
   "metadata": {},
   "source": [
    "# 2. How many unique anime are there?"
   ]
  },
  {
   "cell_type": "code",
   "execution_count": 34,
   "id": "7abb3db4",
   "metadata": {},
   "outputs": [
    {
     "data": {
      "text/plain": [
       "9851"
      ]
     },
     "execution_count": 34,
     "metadata": {},
     "output_type": "execute_result"
    }
   ],
   "source": [
    "len(dt[\"Title\"].unique())"
   ]
  },
  {
   "cell_type": "markdown",
   "id": "402b2451",
   "metadata": {},
   "source": [
    "# 3. Which anime has the highest rating?"
   ]
  },
  {
   "cell_type": "code",
   "execution_count": 35,
   "id": "9137c3b0",
   "metadata": {},
   "outputs": [
    {
     "data": {
      "text/plain": [
       "9.9"
      ]
     },
     "execution_count": 35,
     "metadata": {},
     "output_type": "execute_result"
    }
   ],
   "source": [
    "dt[\"User Rating\"].max()"
   ]
  },
  {
   "cell_type": "code",
   "execution_count": 36,
   "id": "aeb6cc43",
   "metadata": {},
   "outputs": [
    {
     "data": {
      "text/html": [
       "<div>\n",
       "<style scoped>\n",
       "    .dataframe tbody tr th:only-of-type {\n",
       "        vertical-align: middle;\n",
       "    }\n",
       "\n",
       "    .dataframe tbody tr th {\n",
       "        vertical-align: top;\n",
       "    }\n",
       "\n",
       "    .dataframe thead th {\n",
       "        text-align: right;\n",
       "    }\n",
       "</style>\n",
       "<table border=\"1\" class=\"dataframe\">\n",
       "  <thead>\n",
       "    <tr style=\"text-align: right;\">\n",
       "      <th></th>\n",
       "      <th>Title</th>\n",
       "      <th>Genre</th>\n",
       "      <th>User Rating</th>\n",
       "      <th>Number of Votes</th>\n",
       "      <th>Runtime</th>\n",
       "      <th>Year</th>\n",
       "      <th>Summary</th>\n",
       "      <th>Stars</th>\n",
       "      <th>Certificate</th>\n",
       "      <th>Metascore</th>\n",
       "      <th>Gross</th>\n",
       "      <th>Episode</th>\n",
       "      <th>Episode Title</th>\n",
       "    </tr>\n",
       "  </thead>\n",
       "  <tbody>\n",
       "    <tr>\n",
       "      <th>13656</th>\n",
       "      <td>Idaten Jump</td>\n",
       "      <td>Animation, Adventure, Comedy</td>\n",
       "      <td>9.9</td>\n",
       "      <td>11</td>\n",
       "      <td>20 min</td>\n",
       "      <td>(2005–2006)</td>\n",
       "      <td>NaN</td>\n",
       "      <td>Dorothy Elias-Fahn,Yuri Lowenthal,Michelle Ruf...</td>\n",
       "      <td>TV-PG</td>\n",
       "      <td>NaN</td>\n",
       "      <td>11</td>\n",
       "      <td>1</td>\n",
       "      <td>X City no monban</td>\n",
       "    </tr>\n",
       "    <tr>\n",
       "      <th>17874</th>\n",
       "      <td>Vinland Saga</td>\n",
       "      <td>Animation, Action, Adventure</td>\n",
       "      <td>9.9</td>\n",
       "      <td>13,663</td>\n",
       "      <td>24 min</td>\n",
       "      <td>(2019– )</td>\n",
       "      <td>As the Imperial Council proceeds, Askeladd is ...</td>\n",
       "      <td>Mike Haimoto,Yûto Uemura,Naoya Uchida,David Wald</td>\n",
       "      <td>TV-MA</td>\n",
       "      <td>NaN</td>\n",
       "      <td>13663</td>\n",
       "      <td>1</td>\n",
       "      <td>End of The Prologue</td>\n",
       "    </tr>\n",
       "    <tr>\n",
       "      <th>22753</th>\n",
       "      <td>Attack on Titan</td>\n",
       "      <td>Animation, Action, Adventure</td>\n",
       "      <td>9.9</td>\n",
       "      <td>86,907</td>\n",
       "      <td>24 min</td>\n",
       "      <td>(2013–2023)</td>\n",
       "      <td>As the battle between Eren and the warriors ra...</td>\n",
       "      <td>NaN</td>\n",
       "      <td>TV-MA</td>\n",
       "      <td>NaN</td>\n",
       "      <td>86907</td>\n",
       "      <td>1</td>\n",
       "      <td>Assault</td>\n",
       "    </tr>\n",
       "    <tr>\n",
       "      <th>34677</th>\n",
       "      <td>Hunter x Hunter</td>\n",
       "      <td>Animation, Action, Adventure</td>\n",
       "      <td>9.9</td>\n",
       "      <td>9,012</td>\n",
       "      <td>23 min</td>\n",
       "      <td>(2011–2014)</td>\n",
       "      <td>Gon goes beyond his body limits to achieve mon...</td>\n",
       "      <td>NaN</td>\n",
       "      <td>TV-MA</td>\n",
       "      <td>NaN</td>\n",
       "      <td>9012</td>\n",
       "      <td>1</td>\n",
       "      <td>Anger × and × Light</td>\n",
       "    </tr>\n",
       "    <tr>\n",
       "      <th>39614</th>\n",
       "      <td>Legend of the Galactic Heroes</td>\n",
       "      <td>Animation, Action, Drama</td>\n",
       "      <td>9.9</td>\n",
       "      <td>350</td>\n",
       "      <td>32 min</td>\n",
       "      <td>(1988–1997)</td>\n",
       "      <td>After extermination of the Terraist remnants, ...</td>\n",
       "      <td>NaN</td>\n",
       "      <td>TV-MA</td>\n",
       "      <td>NaN</td>\n",
       "      <td>350</td>\n",
       "      <td>1</td>\n",
       "      <td>Dream: To See It to the End</td>\n",
       "    </tr>\n",
       "    <tr>\n",
       "      <th>45689</th>\n",
       "      <td>Attack on Titan</td>\n",
       "      <td>Animation, Action, Adventure</td>\n",
       "      <td>9.9</td>\n",
       "      <td>109,163</td>\n",
       "      <td>24 min</td>\n",
       "      <td>(2013–2023)</td>\n",
       "      <td>As Erwin's heroic charge buys Levi time to con...</td>\n",
       "      <td>NaN</td>\n",
       "      <td>TV-MA</td>\n",
       "      <td>NaN</td>\n",
       "      <td>109163</td>\n",
       "      <td>1</td>\n",
       "      <td>Hero</td>\n",
       "    </tr>\n",
       "  </tbody>\n",
       "</table>\n",
       "</div>"
      ],
      "text/plain": [
       "                               Title                         Genre  \\\n",
       "13656                    Idaten Jump  Animation, Adventure, Comedy   \n",
       "17874                   Vinland Saga  Animation, Action, Adventure   \n",
       "22753                Attack on Titan  Animation, Action, Adventure   \n",
       "34677                Hunter x Hunter  Animation, Action, Adventure   \n",
       "39614  Legend of the Galactic Heroes      Animation, Action, Drama   \n",
       "45689                Attack on Titan  Animation, Action, Adventure   \n",
       "\n",
       "       User Rating Number of Votes Runtime         Year  \\\n",
       "13656          9.9              11  20 min  (2005–2006)   \n",
       "17874          9.9          13,663  24 min     (2019– )   \n",
       "22753          9.9          86,907  24 min  (2013–2023)   \n",
       "34677          9.9           9,012  23 min  (2011–2014)   \n",
       "39614          9.9             350  32 min  (1988–1997)   \n",
       "45689          9.9         109,163  24 min  (2013–2023)   \n",
       "\n",
       "                                                 Summary  \\\n",
       "13656                                                NaN   \n",
       "17874  As the Imperial Council proceeds, Askeladd is ...   \n",
       "22753  As the battle between Eren and the warriors ra...   \n",
       "34677  Gon goes beyond his body limits to achieve mon...   \n",
       "39614  After extermination of the Terraist remnants, ...   \n",
       "45689  As Erwin's heroic charge buys Levi time to con...   \n",
       "\n",
       "                                                   Stars Certificate  \\\n",
       "13656  Dorothy Elias-Fahn,Yuri Lowenthal,Michelle Ruf...       TV-PG   \n",
       "17874   Mike Haimoto,Yûto Uemura,Naoya Uchida,David Wald       TV-MA   \n",
       "22753                                                NaN       TV-MA   \n",
       "34677                                                NaN       TV-MA   \n",
       "39614                                                NaN       TV-MA   \n",
       "45689                                                NaN       TV-MA   \n",
       "\n",
       "      Metascore   Gross Episode                Episode Title  \n",
       "13656       NaN      11       1             X City no monban  \n",
       "17874       NaN   13663       1          End of The Prologue  \n",
       "22753       NaN   86907       1                      Assault  \n",
       "34677       NaN    9012       1          Anger × and × Light  \n",
       "39614       NaN     350       1  Dream: To See It to the End  \n",
       "45689       NaN  109163       1                         Hero  "
      ]
     },
     "execution_count": 36,
     "metadata": {},
     "output_type": "execute_result"
    }
   ],
   "source": [
    "dt.loc[dt[\"User Rating\"]==9.9]"
   ]
  },
  {
   "cell_type": "markdown",
   "id": "000fcc65",
   "metadata": {},
   "source": [
    "# 4.How many anime's has a rating between 7.0 to 9.0?"
   ]
  },
  {
   "cell_type": "code",
   "execution_count": 37,
   "id": "8c12e9b9",
   "metadata": {},
   "outputs": [],
   "source": [
    "rating=dt.loc[(dt[\"User Rating\"]>=7.0)&(dt[\"User Rating\"]<=9.0)]"
   ]
  },
  {
   "cell_type": "code",
   "execution_count": 38,
   "id": "d60f8d40",
   "metadata": {},
   "outputs": [
    {
     "data": {
      "text/plain": [
       "3111"
      ]
     },
     "execution_count": 38,
     "metadata": {},
     "output_type": "execute_result"
    }
   ],
   "source": [
    "len(rating[\"Title\"].unique())"
   ]
  },
  {
   "cell_type": "markdown",
   "id": "3d6044fa",
   "metadata": {},
   "source": [
    "# 5.Which anime has the highest gross price?"
   ]
  },
  {
   "cell_type": "code",
   "execution_count": 39,
   "id": "9718e14b",
   "metadata": {},
   "outputs": [],
   "source": [
    "dt[\"Gross\"]=dt[\"Gross\"].astype(float)"
   ]
  },
  {
   "cell_type": "code",
   "execution_count": 40,
   "id": "48b6cea3",
   "metadata": {},
   "outputs": [],
   "source": [
    "filt=(dt[\"Gross\"]==dt[\"Gross\"].max())"
   ]
  },
  {
   "cell_type": "code",
   "execution_count": 41,
   "id": "2aee4753",
   "metadata": {},
   "outputs": [
    {
     "data": {
      "text/plain": [
       "47     WALL·E\n",
       "888    WALL·E\n",
       "Name: Title, dtype: object"
      ]
     },
     "execution_count": 41,
     "metadata": {},
     "output_type": "execute_result"
    }
   ],
   "source": [
    "dt.loc[filt][\"Title\"]"
   ]
  },
  {
   "cell_type": "markdown",
   "id": "4b3fb4d6",
   "metadata": {},
   "source": [
    "# 6. which anime has the lowest gross price?"
   ]
  },
  {
   "cell_type": "code",
   "execution_count": 42,
   "id": "5ca22f8e",
   "metadata": {},
   "outputs": [],
   "source": [
    "filt=(dt[\"Gross\"]==dt[\"Gross\"].min())"
   ]
  },
  {
   "cell_type": "code",
   "execution_count": 43,
   "id": "02ef2487",
   "metadata": {},
   "outputs": [
    {
     "data": {
      "text/plain": [
       "3233                                            Show Time!\n",
       "5620                                     The Peasant Noble\n",
       "5714     Meitantei Conan Magic File 4: Osaka okonomiyak...\n",
       "6142     Fist of the North Star Legennd of Heroes - Spe...\n",
       "6236                                       Shakotan Boogie\n",
       "                               ...                        \n",
       "45600                                      Girl Beats Boys\n",
       "45601                                      Girl Beats Boys\n",
       "45602                                      Girl Beats Boys\n",
       "45606                                      Girl Beats Boys\n",
       "45608                                      Girl Beats Boys\n",
       "Name: Title, Length: 168, dtype: object"
      ]
     },
     "execution_count": 43,
     "metadata": {},
     "output_type": "execute_result"
    }
   ],
   "source": [
    "dt.loc[filt][\"Title\"]"
   ]
  },
  {
   "cell_type": "code",
   "execution_count": 30,
   "id": "f0afc335",
   "metadata": {},
   "outputs": [
    {
     "data": {
      "text/plain": [
       "168"
      ]
     },
     "execution_count": 30,
     "metadata": {},
     "output_type": "execute_result"
    }
   ],
   "source": [
    "len(dt.loc[filt][\"Title\"])"
   ]
  },
  {
   "cell_type": "markdown",
   "id": "2eb4c97e",
   "metadata": {},
   "source": [
    "# 7. What is the average number of votes in your entire data set?"
   ]
  },
  {
   "cell_type": "code",
   "execution_count": null,
   "id": "fc214bc3",
   "metadata": {},
   "outputs": [],
   "source": []
  },
  {
   "cell_type": "markdown",
   "id": "d56fc218",
   "metadata": {},
   "source": [
    "# 8. Which anime has the highest and lowest runtime?"
   ]
  },
  {
   "cell_type": "code",
   "execution_count": 33,
   "id": "e7cc745d",
   "metadata": {},
   "outputs": [],
   "source": [
    "dt['Runtime']=dt['Runtime'].str.replace('min','')"
   ]
  },
  {
   "cell_type": "code",
   "execution_count": 34,
   "id": "0c825985",
   "metadata": {},
   "outputs": [],
   "source": [
    "dt.replace({\"Runtime\":{\"Runtime\":0}},inplace=True)"
   ]
  },
  {
   "cell_type": "code",
   "execution_count": 36,
   "id": "655c9f61",
   "metadata": {},
   "outputs": [],
   "source": [
    "dt[\"Runtime\"]=dt[\"Runtime\"].str.replace(\",\",\"\")"
   ]
  },
  {
   "cell_type": "code",
   "execution_count": 40,
   "id": "2505a79a",
   "metadata": {},
   "outputs": [],
   "source": [
    "dt[\"Runtime\"]=dt[\"Runtime\"].astype(float)"
   ]
  },
  {
   "cell_type": "code",
   "execution_count": 41,
   "id": "73d3d5fc",
   "metadata": {},
   "outputs": [],
   "source": [
    "d1=dt.loc[dt[\"Runtime\"]==dt[\"Runtime\"].min()]"
   ]
  },
  {
   "cell_type": "code",
   "execution_count": 42,
   "id": "5d7eb801",
   "metadata": {},
   "outputs": [
    {
     "data": {
      "text/plain": [
       "116"
      ]
     },
     "execution_count": 42,
     "metadata": {},
     "output_type": "execute_result"
    }
   ],
   "source": [
    "len(d1[\"Title\"].unique())"
   ]
  },
  {
   "cell_type": "code",
   "execution_count": 43,
   "id": "8020f37c",
   "metadata": {},
   "outputs": [],
   "source": [
    "d2=dt.loc[dt[\"Runtime\"]==dt[\"Runtime\"].max()]"
   ]
  },
  {
   "cell_type": "code",
   "execution_count": 44,
   "id": "97d4a9c2",
   "metadata": {},
   "outputs": [
    {
     "data": {
      "text/plain": [
       "array(['The Wonderful Wizard of Oz'], dtype=object)"
      ]
     },
     "execution_count": 44,
     "metadata": {},
     "output_type": "execute_result"
    }
   ],
   "source": [
    "d2[\"Title\"].unique()"
   ]
  },
  {
   "cell_type": "markdown",
   "id": "0ff2f986",
   "metadata": {},
   "source": [
    "# 9. What is the average user raring of the anime which belong to the action genre?"
   ]
  },
  {
   "cell_type": "code",
   "execution_count": 45,
   "id": "fc61945f",
   "metadata": {},
   "outputs": [],
   "source": [
    "filt=dt[\"Genre\"].str.contains(\"Action\")"
   ]
  },
  {
   "cell_type": "code",
   "execution_count": 46,
   "id": "0b763c87",
   "metadata": {},
   "outputs": [
    {
     "data": {
      "text/plain": [
       "7.334487401423351"
      ]
     },
     "execution_count": 46,
     "metadata": {},
     "output_type": "execute_result"
    }
   ],
   "source": [
    "dt.loc[filt][\"User Rating\"].mean()"
   ]
  },
  {
   "cell_type": "code",
   "execution_count": null,
   "id": "f8dbd537",
   "metadata": {},
   "outputs": [],
   "source": []
  }
 ],
 "metadata": {
  "kernelspec": {
   "display_name": "Python 3 (ipykernel)",
   "language": "python",
   "name": "python3"
  },
  "language_info": {
   "codemirror_mode": {
    "name": "ipython",
    "version": 3
   },
   "file_extension": ".py",
   "mimetype": "text/x-python",
   "name": "python",
   "nbconvert_exporter": "python",
   "pygments_lexer": "ipython3",
   "version": "3.11.3"
  }
 },
 "nbformat": 4,
 "nbformat_minor": 5
}
